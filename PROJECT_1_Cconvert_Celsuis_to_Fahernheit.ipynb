{
  "nbformat": 4,
  "nbformat_minor": 0,
  "metadata": {
    "colab": {
      "name": "PROJECT #1 Cconvert Celsuis to Fahernheit.ipynb",
      "provenance": [],
      "private_outputs": true,
      "collapsed_sections": [],
      "mount_file_id": "https://gist.github.com/shyamjith94/fda7760399501e5a950d4711690b94b1#file-project-1-cconvert-celsuis-to-fahernheit-ipynb",
      "authorship_tag": "ABX9TyOpZVOjgfALyd2rL4BT2N3B",
      "include_colab_link": true
    },
    "kernelspec": {
      "name": "python3",
      "display_name": "Python 3"
    },
    "accelerator": "GPU"
  },
  "cells": [
    {
      "cell_type": "markdown",
      "metadata": {
        "id": "view-in-github",
        "colab_type": "text"
      },
      "source": [
        "<a href=\"https://colab.research.google.com/github/shyamjith94/Tensorflow_2.0/blob/master/PROJECT_1_Cconvert_Celsuis_to_Fahernheit.ipynb\" target=\"_parent\"><img src=\"https://colab.research.google.com/assets/colab-badge.svg\" alt=\"Open In Colab\"/></a>"
      ]
    },
    {
      "cell_type": "markdown",
      "metadata": {
        "id": "PuZFO_UxE_-g",
        "colab_type": "text"
      },
      "source": [
        "##Problem Statement\n",
        "\n",
        "\n",
        "*   Create model Cconvert Celsuis to Fahernheit\n",
        "*   The equation follows T(*F) * T(*c)* 9/5 + 32*F= 35*F\n",
        "\n",
        "\n"
      ]
    },
    {
      "cell_type": "markdown",
      "metadata": {
        "id": "1rLjPQ0TGIJn",
        "colab_type": "text"
      },
      "source": [
        "# Import library"
      ]
    },
    {
      "cell_type": "code",
      "metadata": {
        "id": "ollPQL7DGLLA",
        "colab_type": "code",
        "colab": {}
      },
      "source": [
        "!pip install tensorflow"
      ],
      "execution_count": null,
      "outputs": []
    },
    {
      "cell_type": "code",
      "metadata": {
        "id": "hOPnpiE9FFXm",
        "colab_type": "code",
        "colab": {}
      },
      "source": [
        "import tensorflow as tf\n",
        "import seaborn as sns\n",
        "import pandas as pd\n",
        "import numpy as np\n",
        "import matplotlib.pyplot as plt\n"
      ],
      "execution_count": null,
      "outputs": []
    },
    {
      "cell_type": "code",
      "metadata": {
        "id": "Bg3SaDsGG2fE",
        "colab_type": "code",
        "colab": {}
      },
      "source": [
        "tf.__version__"
      ],
      "execution_count": null,
      "outputs": []
    },
    {
      "cell_type": "markdown",
      "metadata": {
        "id": "FYPqjBa7HE9w",
        "colab_type": "text"
      },
      "source": [
        "#Mount Drive"
      ]
    },
    {
      "cell_type": "markdown",
      "metadata": {
        "id": "fUoUKIfeG51Z",
        "colab_type": "text"
      },
      "source": [
        "#Import DataSets"
      ]
    },
    {
      "cell_type": "code",
      "metadata": {
        "id": "cl0-W18oHDAG",
        "colab_type": "code",
        "colab": {}
      },
      "source": [
        "data = pd.read_csv(\"/content/drive/My Drive/Tensorflow_2.0/Data/Celsius+to+Fahrenheit.csv\")\n",
        "data"
      ],
      "execution_count": null,
      "outputs": []
    },
    {
      "cell_type": "markdown",
      "metadata": {
        "id": "Nna0f3ww0Kaw",
        "colab_type": "text"
      },
      "source": [
        "#Visualize Data"
      ]
    },
    {
      "cell_type": "code",
      "metadata": {
        "id": "46qcCJTr0YTL",
        "colab_type": "code",
        "colab": {}
      },
      "source": [
        "data.describe()"
      ],
      "execution_count": null,
      "outputs": []
    },
    {
      "cell_type": "code",
      "metadata": {
        "id": "dDiA7kDL02zs",
        "colab_type": "code",
        "colab": {}
      },
      "source": [
        "data.info()"
      ],
      "execution_count": null,
      "outputs": []
    },
    {
      "cell_type": "code",
      "metadata": {
        "id": "Ko_8iGlA0_7W",
        "colab_type": "code",
        "colab": {}
      },
      "source": [
        "sns.scatterplot(data[\"Celsius\"], data[\"Fahrenheit\"], color=\"green\")"
      ],
      "execution_count": null,
      "outputs": []
    },
    {
      "cell_type": "markdown",
      "metadata": {
        "id": "84WAuSvl2OWa",
        "colab_type": "text"
      },
      "source": [
        "#Training and Test Data"
      ]
    },
    {
      "cell_type": "code",
      "metadata": {
        "id": "ed58SXLm2bCE",
        "colab_type": "code",
        "colab": {}
      },
      "source": [
        "x_train = data[\"Celsius\"]\n",
        "y_train = data[\"Fahrenheit\"]"
      ],
      "execution_count": null,
      "outputs": []
    },
    {
      "cell_type": "code",
      "metadata": {
        "id": "zXcUx-Re2qms",
        "colab_type": "code",
        "colab": {}
      },
      "source": [
        "x_train.shape"
      ],
      "execution_count": null,
      "outputs": []
    },
    {
      "cell_type": "code",
      "metadata": {
        "id": "Tp8ceXj62viW",
        "colab_type": "code",
        "colab": {}
      },
      "source": [
        "y_train.shape"
      ],
      "execution_count": null,
      "outputs": []
    },
    {
      "cell_type": "code",
      "metadata": {
        "id": "ZW1twfzK2yaY",
        "colab_type": "code",
        "colab": {}
      },
      "source": [
        "model = tf.keras.Sequential()\n",
        "model.add(tf.keras.layers.Dense(units=1, input_shape=[1]))"
      ],
      "execution_count": null,
      "outputs": []
    },
    {
      "cell_type": "code",
      "metadata": {
        "id": "w4p3Fid_4Teo",
        "colab_type": "code",
        "colab": {}
      },
      "source": [
        "model.summary()"
      ],
      "execution_count": null,
      "outputs": []
    },
    {
      "cell_type": "code",
      "metadata": {
        "id": "PboxWEBn4X0d",
        "colab_type": "code",
        "colab": {}
      },
      "source": [
        "model.compile(optimizer=tf.keras.optimizers.Adam(0.5), loss=\"mean_squared_error\")"
      ],
      "execution_count": null,
      "outputs": []
    },
    {
      "cell_type": "code",
      "metadata": {
        "id": "RwlyxybA43_R",
        "colab_type": "code",
        "colab": {}
      },
      "source": [
        "epochs_history=model.fit(x_train, y_train, epochs=5)"
      ],
      "execution_count": null,
      "outputs": []
    },
    {
      "cell_type": "markdown",
      "metadata": {
        "id": "yCV8fr_I5QJ_",
        "colab_type": "text"
      },
      "source": [
        "##Model_2\n"
      ]
    },
    {
      "cell_type": "code",
      "metadata": {
        "id": "vWfhf8ZS5zj5",
        "colab_type": "code",
        "colab": {}
      },
      "source": [
        "model_2 = tf.keras.Sequential()\n",
        "model_2.add(tf.keras.layers.Dense(units=1, input_shape=[1]))\n"
      ],
      "execution_count": null,
      "outputs": []
    },
    {
      "cell_type": "code",
      "metadata": {
        "id": "OkObJq-C6qK9",
        "colab_type": "code",
        "colab": {}
      },
      "source": [
        "model_2.summary()"
      ],
      "execution_count": null,
      "outputs": []
    },
    {
      "cell_type": "code",
      "metadata": {
        "id": "8aKyx0fH6y2t",
        "colab_type": "code",
        "colab": {}
      },
      "source": [
        "model_2.compile(optimizer=tf.keras.optimizers.Adam(0.5), loss=\"mean_squared_error\")"
      ],
      "execution_count": null,
      "outputs": []
    },
    {
      "cell_type": "code",
      "metadata": {
        "id": "Oe2y5XBs8Buv",
        "colab_type": "code",
        "colab": {}
      },
      "source": [
        "epochs_history_2 = model_2.fit(x_train, y_train, epochs=500)"
      ],
      "execution_count": null,
      "outputs": []
    },
    {
      "cell_type": "markdown",
      "metadata": {
        "id": "bzHk-iZJcI4y",
        "colab_type": "text"
      },
      "source": [
        "#Evaluate Model"
      ]
    },
    {
      "cell_type": "markdown",
      "metadata": {
        "id": "zRPrl8DQcbpH",
        "colab_type": "text"
      },
      "source": [
        "model_1"
      ]
    },
    {
      "cell_type": "code",
      "metadata": {
        "id": "xIk4yodNcPov",
        "colab_type": "code",
        "colab": {}
      },
      "source": [
        "epochs_history.history.keys()"
      ],
      "execution_count": null,
      "outputs": []
    },
    {
      "cell_type": "code",
      "metadata": {
        "id": "FYLGArP7cU8G",
        "colab_type": "code",
        "colab": {}
      },
      "source": [
        "plt.figure(figsize=(10, 10))\n",
        "plt.plot(epochs_history.history['loss'])\n",
        "plt.title(\"Model Loss progress During training Epochs is 100 and Learning Rate 0.5\")\n",
        "plt.xlabel(\"Epochs\")\n",
        "plt.ylabel(\"Traning Loss\")\n",
        "plt.legend([\"Traning loss\"])"
      ],
      "execution_count": null,
      "outputs": []
    },
    {
      "cell_type": "markdown",
      "metadata": {
        "id": "r0B1BugzdEyl",
        "colab_type": "text"
      },
      "source": [
        "model_2"
      ]
    },
    {
      "cell_type": "code",
      "metadata": {
        "id": "4XZNOaaLc43h",
        "colab_type": "code",
        "colab": {}
      },
      "source": [
        "plt.figure(figsize=(10, 10))\n",
        "plt.plot(epochs_history_2.history['loss'])\n",
        "plt.title(\"Model Loss progress During training Epochs is 100 and Learning Rate 0.5\")\n",
        "plt.xlabel(\"Epochs\")\n",
        "plt.ylabel(\"Traning Loss\")\n",
        "plt.legend([\"Traning loss\"])"
      ],
      "execution_count": null,
      "outputs": []
    },
    {
      "cell_type": "code",
      "metadata": {
        "id": "lxrgAi5fjBP6",
        "colab_type": "code",
        "colab": {}
      },
      "source": [
        "model.get_weights() # 9/5 = 1.8, "
      ],
      "execution_count": null,
      "outputs": []
    },
    {
      "cell_type": "code",
      "metadata": {
        "id": "4rpkd1UijJ1G",
        "colab_type": "code",
        "colab": {}
      },
      "source": [
        "model_2.get_weights()"
      ],
      "execution_count": null,
      "outputs": []
    },
    {
      "cell_type": "markdown",
      "metadata": {
        "id": "eFzYKmAkjrpG",
        "colab_type": "text"
      },
      "source": [
        "#Using Model"
      ]
    },
    {
      "cell_type": "code",
      "metadata": {
        "id": "MciKfsPpjwKn",
        "colab_type": "code",
        "colab": {}
      },
      "source": [
        "temp_c = 0\n",
        "temp_f = model.predict([temp_c])\n",
        "print('temperature in degF using trainned ANN', temp_f)"
      ],
      "execution_count": null,
      "outputs": []
    },
    {
      "cell_type": "code",
      "metadata": {
        "id": "qItWtTXeltoI",
        "colab_type": "code",
        "colab": {}
      },
      "source": [
        "temp_f = 9/5*temp_c +32\n",
        "print('temperature in degF using trainned ANN', temp_f)"
      ],
      "execution_count": null,
      "outputs": []
    },
    {
      "cell_type": "code",
      "metadata": {
        "id": "vTmkvjsGmBAW",
        "colab_type": "code",
        "colab": {}
      },
      "source": [
        "temp_c = -32\n",
        "temp_f = 9/5*temp_c +32\n",
        "print('temperature in degF using trainned ANN', temp_f)"
      ],
      "execution_count": null,
      "outputs": []
    },
    {
      "cell_type": "code",
      "metadata": {
        "id": "Pm4xVjN3nS-y",
        "colab_type": "code",
        "colab": {}
      },
      "source": [
        "temp_c = -32\n",
        "temp_f = model.predict([temp_c])\n",
        "print('temperature in degF using trainned ANN', temp_f)"
      ],
      "execution_count": null,
      "outputs": []
    }
  ]
}