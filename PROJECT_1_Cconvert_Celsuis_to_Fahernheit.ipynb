{
  "nbformat": 4,
  "nbformat_minor": 0,
  "metadata": {
    "colab": {
      "name": "PROJECT #1 Cconvert Celsuis to Fahernheit.ipynb",
      "provenance": [],
      "collapsed_sections": [],
      "mount_file_id": "1JbbTEeLFDMwmHOaPzQXoEfpk-b_pzlnO",
      "authorship_tag": "ABX9TyNq2v3EJDBuUIU79wIXu2j3",
      "include_colab_link": true
    },
    "kernelspec": {
      "name": "python3",
      "display_name": "Python 3"
    },
    "accelerator": "GPU"
  },
  "cells": [
    {
      "cell_type": "markdown",
      "metadata": {
        "id": "view-in-github",
        "colab_type": "text"
      },
      "source": [
        "<a href=\"https://colab.research.google.com/github/shyamjith94/Tensorflow_2.0/blob/master/PROJECT_1_Cconvert_Celsuis_to_Fahernheit.ipynb\" target=\"_parent\"><img src=\"https://colab.research.google.com/assets/colab-badge.svg\" alt=\"Open In Colab\"/></a>"
      ]
    },
    {
      "cell_type": "markdown",
      "metadata": {
        "id": "PuZFO_UxE_-g",
        "colab_type": "text"
      },
      "source": [
        "##Problem Statement\n",
        "\n",
        "\n",
        "*   Create model Cconvert Celsuis to Fahernheit\n",
        "*   The equation follows T(*F) * T(*c)* 9/5 + 32*F= 35*F\n",
        "\n",
        "\n"
      ]
    },
    {
      "cell_type": "markdown",
      "metadata": {
        "id": "1rLjPQ0TGIJn",
        "colab_type": "text"
      },
      "source": [
        "# Import library"
      ]
    },
    {
      "cell_type": "code",
      "metadata": {
        "id": "ollPQL7DGLLA",
        "colab_type": "code",
        "colab": {
          "base_uri": "https://localhost:8080/",
          "height": 638
        },
        "outputId": "085c8c34-0c3d-4c63-a018-a0bab99ebf21"
      },
      "source": [
        "!pip install tensorflow"
      ],
      "execution_count": 1,
      "outputs": [
        {
          "output_type": "stream",
          "text": [
            "Requirement already satisfied: tensorflow in /usr/local/lib/python3.6/dist-packages (2.3.0)\n",
            "Requirement already satisfied: astunparse==1.6.3 in /usr/local/lib/python3.6/dist-packages (from tensorflow) (1.6.3)\n",
            "Requirement already satisfied: scipy==1.4.1 in /usr/local/lib/python3.6/dist-packages (from tensorflow) (1.4.1)\n",
            "Requirement already satisfied: opt-einsum>=2.3.2 in /usr/local/lib/python3.6/dist-packages (from tensorflow) (3.3.0)\n",
            "Requirement already satisfied: keras-preprocessing<1.2,>=1.1.1 in /usr/local/lib/python3.6/dist-packages (from tensorflow) (1.1.2)\n",
            "Requirement already satisfied: google-pasta>=0.1.8 in /usr/local/lib/python3.6/dist-packages (from tensorflow) (0.2.0)\n",
            "Requirement already satisfied: gast==0.3.3 in /usr/local/lib/python3.6/dist-packages (from tensorflow) (0.3.3)\n",
            "Requirement already satisfied: numpy<1.19.0,>=1.16.0 in /usr/local/lib/python3.6/dist-packages (from tensorflow) (1.18.5)\n",
            "Requirement already satisfied: protobuf>=3.9.2 in /usr/local/lib/python3.6/dist-packages (from tensorflow) (3.12.4)\n",
            "Requirement already satisfied: grpcio>=1.8.6 in /usr/local/lib/python3.6/dist-packages (from tensorflow) (1.31.0)\n",
            "Requirement already satisfied: absl-py>=0.7.0 in /usr/local/lib/python3.6/dist-packages (from tensorflow) (0.8.1)\n",
            "Requirement already satisfied: tensorflow-estimator<2.4.0,>=2.3.0 in /usr/local/lib/python3.6/dist-packages (from tensorflow) (2.3.0)\n",
            "Requirement already satisfied: wrapt>=1.11.1 in /usr/local/lib/python3.6/dist-packages (from tensorflow) (1.12.1)\n",
            "Requirement already satisfied: tensorboard<3,>=2.3.0 in /usr/local/lib/python3.6/dist-packages (from tensorflow) (2.3.0)\n",
            "Requirement already satisfied: h5py<2.11.0,>=2.10.0 in /usr/local/lib/python3.6/dist-packages (from tensorflow) (2.10.0)\n",
            "Requirement already satisfied: termcolor>=1.1.0 in /usr/local/lib/python3.6/dist-packages (from tensorflow) (1.1.0)\n",
            "Requirement already satisfied: six>=1.12.0 in /usr/local/lib/python3.6/dist-packages (from tensorflow) (1.15.0)\n",
            "Requirement already satisfied: wheel>=0.26 in /usr/local/lib/python3.6/dist-packages (from tensorflow) (0.35.1)\n",
            "Requirement already satisfied: setuptools in /usr/local/lib/python3.6/dist-packages (from protobuf>=3.9.2->tensorflow) (49.6.0)\n",
            "Requirement already satisfied: tensorboard-plugin-wit>=1.6.0 in /usr/local/lib/python3.6/dist-packages (from tensorboard<3,>=2.3.0->tensorflow) (1.7.0)\n",
            "Requirement already satisfied: google-auth-oauthlib<0.5,>=0.4.1 in /usr/local/lib/python3.6/dist-packages (from tensorboard<3,>=2.3.0->tensorflow) (0.4.1)\n",
            "Requirement already satisfied: markdown>=2.6.8 in /usr/local/lib/python3.6/dist-packages (from tensorboard<3,>=2.3.0->tensorflow) (3.2.2)\n",
            "Requirement already satisfied: requests<3,>=2.21.0 in /usr/local/lib/python3.6/dist-packages (from tensorboard<3,>=2.3.0->tensorflow) (2.23.0)\n",
            "Requirement already satisfied: werkzeug>=0.11.15 in /usr/local/lib/python3.6/dist-packages (from tensorboard<3,>=2.3.0->tensorflow) (1.0.1)\n",
            "Requirement already satisfied: google-auth<2,>=1.6.3 in /usr/local/lib/python3.6/dist-packages (from tensorboard<3,>=2.3.0->tensorflow) (1.17.2)\n",
            "Requirement already satisfied: requests-oauthlib>=0.7.0 in /usr/local/lib/python3.6/dist-packages (from google-auth-oauthlib<0.5,>=0.4.1->tensorboard<3,>=2.3.0->tensorflow) (1.3.0)\n",
            "Requirement already satisfied: importlib-metadata; python_version < \"3.8\" in /usr/local/lib/python3.6/dist-packages (from markdown>=2.6.8->tensorboard<3,>=2.3.0->tensorflow) (1.7.0)\n",
            "Requirement already satisfied: certifi>=2017.4.17 in /usr/local/lib/python3.6/dist-packages (from requests<3,>=2.21.0->tensorboard<3,>=2.3.0->tensorflow) (2020.6.20)\n",
            "Requirement already satisfied: idna<3,>=2.5 in /usr/local/lib/python3.6/dist-packages (from requests<3,>=2.21.0->tensorboard<3,>=2.3.0->tensorflow) (2.10)\n",
            "Requirement already satisfied: chardet<4,>=3.0.2 in /usr/local/lib/python3.6/dist-packages (from requests<3,>=2.21.0->tensorboard<3,>=2.3.0->tensorflow) (3.0.4)\n",
            "Requirement already satisfied: urllib3!=1.25.0,!=1.25.1,<1.26,>=1.21.1 in /usr/local/lib/python3.6/dist-packages (from requests<3,>=2.21.0->tensorboard<3,>=2.3.0->tensorflow) (1.24.3)\n",
            "Requirement already satisfied: cachetools<5.0,>=2.0.0 in /usr/local/lib/python3.6/dist-packages (from google-auth<2,>=1.6.3->tensorboard<3,>=2.3.0->tensorflow) (4.1.1)\n",
            "Requirement already satisfied: pyasn1-modules>=0.2.1 in /usr/local/lib/python3.6/dist-packages (from google-auth<2,>=1.6.3->tensorboard<3,>=2.3.0->tensorflow) (0.2.8)\n",
            "Requirement already satisfied: rsa<5,>=3.1.4; python_version >= \"3\" in /usr/local/lib/python3.6/dist-packages (from google-auth<2,>=1.6.3->tensorboard<3,>=2.3.0->tensorflow) (4.6)\n",
            "Requirement already satisfied: oauthlib>=3.0.0 in /usr/local/lib/python3.6/dist-packages (from requests-oauthlib>=0.7.0->google-auth-oauthlib<0.5,>=0.4.1->tensorboard<3,>=2.3.0->tensorflow) (3.1.0)\n",
            "Requirement already satisfied: zipp>=0.5 in /usr/local/lib/python3.6/dist-packages (from importlib-metadata; python_version < \"3.8\"->markdown>=2.6.8->tensorboard<3,>=2.3.0->tensorflow) (3.1.0)\n",
            "Requirement already satisfied: pyasn1<0.5.0,>=0.4.6 in /usr/local/lib/python3.6/dist-packages (from pyasn1-modules>=0.2.1->google-auth<2,>=1.6.3->tensorboard<3,>=2.3.0->tensorflow) (0.4.8)\n"
          ],
          "name": "stdout"
        }
      ]
    },
    {
      "cell_type": "code",
      "metadata": {
        "id": "hOPnpiE9FFXm",
        "colab_type": "code",
        "colab": {
          "base_uri": "https://localhost:8080/",
          "height": 70
        },
        "outputId": "d2205da1-293a-42d9-f125-c419cbb07881"
      },
      "source": [
        "import tensorflow as tf\n",
        "import seaborn as sns\n",
        "import pandas as pd\n",
        "import numpy as np\n",
        "import matplotlib.pyplot as plt\n"
      ],
      "execution_count": 2,
      "outputs": [
        {
          "output_type": "stream",
          "text": [
            "/usr/local/lib/python3.6/dist-packages/statsmodels/tools/_testing.py:19: FutureWarning: pandas.util.testing is deprecated. Use the functions in the public API at pandas.testing instead.\n",
            "  import pandas.util.testing as tm\n"
          ],
          "name": "stderr"
        }
      ]
    },
    {
      "cell_type": "code",
      "metadata": {
        "id": "Bg3SaDsGG2fE",
        "colab_type": "code",
        "colab": {
          "base_uri": "https://localhost:8080/",
          "height": 35
        },
        "outputId": "cee57e2b-a2dd-4916-c582-f7a565773ca6"
      },
      "source": [
        "tf.__version__"
      ],
      "execution_count": 3,
      "outputs": [
        {
          "output_type": "execute_result",
          "data": {
            "application/vnd.google.colaboratory.intrinsic+json": {
              "type": "string"
            },
            "text/plain": [
              "'2.3.0'"
            ]
          },
          "metadata": {
            "tags": []
          },
          "execution_count": 3
        }
      ]
    },
    {
      "cell_type": "markdown",
      "metadata": {
        "id": "FYPqjBa7HE9w",
        "colab_type": "text"
      },
      "source": [
        "#Mount Drive"
      ]
    },
    {
      "cell_type": "markdown",
      "metadata": {
        "id": "fUoUKIfeG51Z",
        "colab_type": "text"
      },
      "source": [
        "#Import DataSets"
      ]
    },
    {
      "cell_type": "code",
      "metadata": {
        "id": "cl0-W18oHDAG",
        "colab_type": "code",
        "colab": {
          "base_uri": "https://localhost:8080/",
          "height": 910
        },
        "outputId": "f9c2336e-9d42-4b0e-a43a-3ea909854847"
      },
      "source": [
        "data = pd.read_csv(\"/content/drive/My Drive/Tensorflow_2.0/Data/Celsius+to+Fahrenheit.csv\")\n",
        "data"
      ],
      "execution_count": 4,
      "outputs": [
        {
          "output_type": "execute_result",
          "data": {
            "text/html": [
              "<div>\n",
              "<style scoped>\n",
              "    .dataframe tbody tr th:only-of-type {\n",
              "        vertical-align: middle;\n",
              "    }\n",
              "\n",
              "    .dataframe tbody tr th {\n",
              "        vertical-align: top;\n",
              "    }\n",
              "\n",
              "    .dataframe thead th {\n",
              "        text-align: right;\n",
              "    }\n",
              "</style>\n",
              "<table border=\"1\" class=\"dataframe\">\n",
              "  <thead>\n",
              "    <tr style=\"text-align: right;\">\n",
              "      <th></th>\n",
              "      <th>Celsius</th>\n",
              "      <th>Fahrenheit</th>\n",
              "    </tr>\n",
              "  </thead>\n",
              "  <tbody>\n",
              "    <tr>\n",
              "      <th>0</th>\n",
              "      <td>-50</td>\n",
              "      <td>-58.0</td>\n",
              "    </tr>\n",
              "    <tr>\n",
              "      <th>1</th>\n",
              "      <td>-40</td>\n",
              "      <td>-40.0</td>\n",
              "    </tr>\n",
              "    <tr>\n",
              "      <th>2</th>\n",
              "      <td>-30</td>\n",
              "      <td>-22.0</td>\n",
              "    </tr>\n",
              "    <tr>\n",
              "      <th>3</th>\n",
              "      <td>-20</td>\n",
              "      <td>-4.0</td>\n",
              "    </tr>\n",
              "    <tr>\n",
              "      <th>4</th>\n",
              "      <td>-10</td>\n",
              "      <td>14.0</td>\n",
              "    </tr>\n",
              "    <tr>\n",
              "      <th>5</th>\n",
              "      <td>-9</td>\n",
              "      <td>15.8</td>\n",
              "    </tr>\n",
              "    <tr>\n",
              "      <th>6</th>\n",
              "      <td>-8</td>\n",
              "      <td>17.6</td>\n",
              "    </tr>\n",
              "    <tr>\n",
              "      <th>7</th>\n",
              "      <td>-7</td>\n",
              "      <td>19.4</td>\n",
              "    </tr>\n",
              "    <tr>\n",
              "      <th>8</th>\n",
              "      <td>-6</td>\n",
              "      <td>21.2</td>\n",
              "    </tr>\n",
              "    <tr>\n",
              "      <th>9</th>\n",
              "      <td>-5</td>\n",
              "      <td>23.0</td>\n",
              "    </tr>\n",
              "    <tr>\n",
              "      <th>10</th>\n",
              "      <td>-4</td>\n",
              "      <td>24.8</td>\n",
              "    </tr>\n",
              "    <tr>\n",
              "      <th>11</th>\n",
              "      <td>-3</td>\n",
              "      <td>26.6</td>\n",
              "    </tr>\n",
              "    <tr>\n",
              "      <th>12</th>\n",
              "      <td>-2</td>\n",
              "      <td>28.4</td>\n",
              "    </tr>\n",
              "    <tr>\n",
              "      <th>13</th>\n",
              "      <td>-1</td>\n",
              "      <td>30.2</td>\n",
              "    </tr>\n",
              "    <tr>\n",
              "      <th>14</th>\n",
              "      <td>0</td>\n",
              "      <td>32.0</td>\n",
              "    </tr>\n",
              "    <tr>\n",
              "      <th>15</th>\n",
              "      <td>1</td>\n",
              "      <td>33.8</td>\n",
              "    </tr>\n",
              "    <tr>\n",
              "      <th>16</th>\n",
              "      <td>2</td>\n",
              "      <td>35.6</td>\n",
              "    </tr>\n",
              "    <tr>\n",
              "      <th>17</th>\n",
              "      <td>3</td>\n",
              "      <td>37.4</td>\n",
              "    </tr>\n",
              "    <tr>\n",
              "      <th>18</th>\n",
              "      <td>4</td>\n",
              "      <td>39.2</td>\n",
              "    </tr>\n",
              "    <tr>\n",
              "      <th>19</th>\n",
              "      <td>5</td>\n",
              "      <td>41.0</td>\n",
              "    </tr>\n",
              "    <tr>\n",
              "      <th>20</th>\n",
              "      <td>6</td>\n",
              "      <td>42.8</td>\n",
              "    </tr>\n",
              "    <tr>\n",
              "      <th>21</th>\n",
              "      <td>7</td>\n",
              "      <td>44.6</td>\n",
              "    </tr>\n",
              "    <tr>\n",
              "      <th>22</th>\n",
              "      <td>8</td>\n",
              "      <td>46.4</td>\n",
              "    </tr>\n",
              "    <tr>\n",
              "      <th>23</th>\n",
              "      <td>9</td>\n",
              "      <td>48.2</td>\n",
              "    </tr>\n",
              "    <tr>\n",
              "      <th>24</th>\n",
              "      <td>10</td>\n",
              "      <td>50.0</td>\n",
              "    </tr>\n",
              "    <tr>\n",
              "      <th>25</th>\n",
              "      <td>20</td>\n",
              "      <td>68.0</td>\n",
              "    </tr>\n",
              "    <tr>\n",
              "      <th>26</th>\n",
              "      <td>30</td>\n",
              "      <td>86.0</td>\n",
              "    </tr>\n",
              "    <tr>\n",
              "      <th>27</th>\n",
              "      <td>40</td>\n",
              "      <td>104.0</td>\n",
              "    </tr>\n",
              "    <tr>\n",
              "      <th>28</th>\n",
              "      <td>50</td>\n",
              "      <td>122.0</td>\n",
              "    </tr>\n",
              "    <tr>\n",
              "      <th>29</th>\n",
              "      <td>60</td>\n",
              "      <td>140.0</td>\n",
              "    </tr>\n",
              "  </tbody>\n",
              "</table>\n",
              "</div>"
            ],
            "text/plain": [
              "    Celsius  Fahrenheit\n",
              "0       -50       -58.0\n",
              "1       -40       -40.0\n",
              "2       -30       -22.0\n",
              "3       -20        -4.0\n",
              "4       -10        14.0\n",
              "5        -9        15.8\n",
              "6        -8        17.6\n",
              "7        -7        19.4\n",
              "8        -6        21.2\n",
              "9        -5        23.0\n",
              "10       -4        24.8\n",
              "11       -3        26.6\n",
              "12       -2        28.4\n",
              "13       -1        30.2\n",
              "14        0        32.0\n",
              "15        1        33.8\n",
              "16        2        35.6\n",
              "17        3        37.4\n",
              "18        4        39.2\n",
              "19        5        41.0\n",
              "20        6        42.8\n",
              "21        7        44.6\n",
              "22        8        46.4\n",
              "23        9        48.2\n",
              "24       10        50.0\n",
              "25       20        68.0\n",
              "26       30        86.0\n",
              "27       40       104.0\n",
              "28       50       122.0\n",
              "29       60       140.0"
            ]
          },
          "metadata": {
            "tags": []
          },
          "execution_count": 4
        }
      ]
    },
    {
      "cell_type": "markdown",
      "metadata": {
        "id": "Nna0f3ww0Kaw",
        "colab_type": "text"
      },
      "source": [
        "#Visualize Data"
      ]
    },
    {
      "cell_type": "code",
      "metadata": {
        "id": "46qcCJTr0YTL",
        "colab_type": "code",
        "colab": {
          "base_uri": "https://localhost:8080/",
          "height": 277
        },
        "outputId": "220b5b72-31b1-40cf-a612-dc1cd4386af6"
      },
      "source": [
        "data.describe()"
      ],
      "execution_count": 5,
      "outputs": [
        {
          "output_type": "execute_result",
          "data": {
            "text/html": [
              "<div>\n",
              "<style scoped>\n",
              "    .dataframe tbody tr th:only-of-type {\n",
              "        vertical-align: middle;\n",
              "    }\n",
              "\n",
              "    .dataframe tbody tr th {\n",
              "        vertical-align: top;\n",
              "    }\n",
              "\n",
              "    .dataframe thead th {\n",
              "        text-align: right;\n",
              "    }\n",
              "</style>\n",
              "<table border=\"1\" class=\"dataframe\">\n",
              "  <thead>\n",
              "    <tr style=\"text-align: right;\">\n",
              "      <th></th>\n",
              "      <th>Celsius</th>\n",
              "      <th>Fahrenheit</th>\n",
              "    </tr>\n",
              "  </thead>\n",
              "  <tbody>\n",
              "    <tr>\n",
              "      <th>count</th>\n",
              "      <td>30.000000</td>\n",
              "      <td>30.000000</td>\n",
              "    </tr>\n",
              "    <tr>\n",
              "      <th>mean</th>\n",
              "      <td>2.000000</td>\n",
              "      <td>35.600000</td>\n",
              "    </tr>\n",
              "    <tr>\n",
              "      <th>std</th>\n",
              "      <td>22.780815</td>\n",
              "      <td>41.005466</td>\n",
              "    </tr>\n",
              "    <tr>\n",
              "      <th>min</th>\n",
              "      <td>-50.000000</td>\n",
              "      <td>-58.000000</td>\n",
              "    </tr>\n",
              "    <tr>\n",
              "      <th>25%</th>\n",
              "      <td>-6.750000</td>\n",
              "      <td>19.850000</td>\n",
              "    </tr>\n",
              "    <tr>\n",
              "      <th>50%</th>\n",
              "      <td>0.500000</td>\n",
              "      <td>32.900000</td>\n",
              "    </tr>\n",
              "    <tr>\n",
              "      <th>75%</th>\n",
              "      <td>7.750000</td>\n",
              "      <td>45.950000</td>\n",
              "    </tr>\n",
              "    <tr>\n",
              "      <th>max</th>\n",
              "      <td>60.000000</td>\n",
              "      <td>140.000000</td>\n",
              "    </tr>\n",
              "  </tbody>\n",
              "</table>\n",
              "</div>"
            ],
            "text/plain": [
              "         Celsius  Fahrenheit\n",
              "count  30.000000   30.000000\n",
              "mean    2.000000   35.600000\n",
              "std    22.780815   41.005466\n",
              "min   -50.000000  -58.000000\n",
              "25%    -6.750000   19.850000\n",
              "50%     0.500000   32.900000\n",
              "75%     7.750000   45.950000\n",
              "max    60.000000  140.000000"
            ]
          },
          "metadata": {
            "tags": []
          },
          "execution_count": 5
        }
      ]
    },
    {
      "cell_type": "code",
      "metadata": {
        "id": "dDiA7kDL02zs",
        "colab_type": "code",
        "colab": {
          "base_uri": "https://localhost:8080/",
          "height": 163
        },
        "outputId": "3113de19-e445-4639-9777-613d594aa667"
      },
      "source": [
        "data.info()"
      ],
      "execution_count": 6,
      "outputs": [
        {
          "output_type": "stream",
          "text": [
            "<class 'pandas.core.frame.DataFrame'>\n",
            "RangeIndex: 30 entries, 0 to 29\n",
            "Data columns (total 2 columns):\n",
            " #   Column      Non-Null Count  Dtype  \n",
            "---  ------      --------------  -----  \n",
            " 0   Celsius     30 non-null     int64  \n",
            " 1   Fahrenheit  30 non-null     float64\n",
            "dtypes: float64(1), int64(1)\n",
            "memory usage: 608.0 bytes\n"
          ],
          "name": "stdout"
        }
      ]
    },
    {
      "cell_type": "code",
      "metadata": {
        "id": "Ko_8iGlA0_7W",
        "colab_type": "code",
        "colab": {
          "base_uri": "https://localhost:8080/",
          "height": 295
        },
        "outputId": "0bd6b450-abc7-40b4-9eda-fd4a80c177f1"
      },
      "source": [
        "sns.scatterplot(data[\"Celsius\"], data[\"Fahrenheit\"], color=\"green\")"
      ],
      "execution_count": 7,
      "outputs": [
        {
          "output_type": "execute_result",
          "data": {
            "text/plain": [
              "<matplotlib.axes._subplots.AxesSubplot at 0x7fd516e31f98>"
            ]
          },
          "metadata": {
            "tags": []
          },
          "execution_count": 7
        },
        {
          "output_type": "display_data",
          "data": {
            "image/png": "[encoded data removed]",
            "text/plain": [
              "<Figure size 432x288 with 1 Axes>"
            ]
          },
          "metadata": {
            "tags": [],
            "needs_background": "light"
          }
        }
      ]
    },
    {
      "cell_type": "markdown",
      "metadata": {
        "id": "84WAuSvl2OWa",
        "colab_type": "text"
      },
      "source": [
        "#Training and Test Data"
      ]
    },
    {
      "cell_type": "code",
      "metadata": {
        "id": "ed58SXLm2bCE",
        "colab_type": "code",
        "colab": {}
      },
      "source": [
        "x_train = data[\"Celsius\"]\n",
        "y_train = data[\"Fahrenheit\"]"
      ],
      "execution_count": 8,
      "outputs": []
    },
    {
      "cell_type": "code",
      "metadata": {
        "id": "zXcUx-Re2qms",
        "colab_type": "code",
        "colab": {
          "base_uri": "https://localhost:8080/",
          "height": 33
        },
        "outputId": "35c74b57-095e-491d-a516-dd4cddf25149"
      },
      "source": [
        "x_train.shape"
      ],
      "execution_count": 9,
      "outputs": [
        {
          "output_type": "execute_result",
          "data": {
            "text/plain": [
              "(30,)"
            ]
          },
          "metadata": {
            "tags": []
          },
          "execution_count": 9
        }
      ]
    },
    {
      "cell_type": "code",
      "metadata": {
        "id": "Tp8ceXj62viW",
        "colab_type": "code",
        "colab": {
          "base_uri": "https://localhost:8080/",
          "height": 33
        },
        "outputId": "ad1c1851-b927-4e76-f1b4-905bd3f3443f"
      },
      "source": [
        "y_train.shape"
      ],
      "execution_count": 10,
      "outputs": [
        {
          "output_type": "execute_result",
          "data": {
            "text/plain": [
              "(30,)"
            ]
          },
          "metadata": {
            "tags": []
          },
          "execution_count": 10
        }
      ]
    },
    {
      "cell_type": "code",
      "metadata": {
        "id": "ZW1twfzK2yaY",
        "colab_type": "code",
        "colab": {}
      },
      "source": [
        "model = tf.keras.Sequential()\n",
        "model.add(tf.keras.layers.Dense(units=1, input_shape=[1]))"
      ],
      "execution_count": 11,
      "outputs": []
    },
    {
      "cell_type": "code",
      "metadata": {
        "id": "w4p3Fid_4Teo",
        "colab_type": "code",
        "colab": {
          "base_uri": "https://localhost:8080/",
          "height": 180
        },
        "outputId": "2b4d4c9b-5be0-4ea3-db1f-ffff7c93ac13"
      },
      "source": [
        "model.summary()"
      ],
      "execution_count": 12,
      "outputs": [
        {
          "output_type": "stream",
          "text": [
            "Model: \"sequential\"\n",
            "_________________________________________________________________\n",
            "Layer (type)                 Output Shape              Param #   \n",
            "=================================================================\n",
            "dense (Dense)                (None, 1)                 2         \n",
            "=================================================================\n",
            "Total params: 2\n",
            "Trainable params: 2\n",
            "Non-trainable params: 0\n",
            "_________________________________________________________________\n"
          ],
          "name": "stdout"
        }
      ]
    },
    {
      "cell_type": "code",
      "metadata": {
        "id": "PboxWEBn4X0d",
        "colab_type": "code",
        "colab": {}
      },
      "source": [
        "model.compile(optimizer=tf.keras.optimizers.Adam(0.5), loss=\"mean_squared_error\")"
      ],
      "execution_count": 13,
      "outputs": []
    },
    {
      "cell_type": "code",
      "metadata": {
        "id": "RwlyxybA43_R",
        "colab_type": "code",
        "colab": {
          "base_uri": "https://localhost:8080/",
          "height": 180
        },
        "outputId": "7c2fc9a1-0a22-41b9-e04c-f04f6db5b6dd"
      },
      "source": [
        "epochs_history=model.fit(x_train, y_train, epochs=5)"
      ],
      "execution_count": 14,
      "outputs": [
        {
          "output_type": "stream",
          "text": [
            "Epoch 1/5\n",
            "1/1 [==============================] - 0s 2ms/step - loss: 3055.0681\n",
            "Epoch 2/5\n",
            "1/1 [==============================] - 0s 1ms/step - loss: 2131.4976\n",
            "Epoch 3/5\n",
            "1/1 [==============================] - 0s 3ms/step - loss: 1472.2148\n",
            "Epoch 4/5\n",
            "1/1 [==============================] - 0s 3ms/step - loss: 1070.0389\n",
            "Epoch 5/5\n",
            "1/1 [==============================] - 0s 1ms/step - loss: 898.4346\n"
          ],
          "name": "stdout"
        }
      ]
    },
    {
      "cell_type": "markdown",
      "metadata": {
        "id": "yCV8fr_I5QJ_",
        "colab_type": "text"
      },
      "source": [
        "##Model_2\n"
      ]
    },
    {
      "cell_type": "code",
      "metadata": {
        "id": "vWfhf8ZS5zj5",
        "colab_type": "code",
        "colab": {}
      },
      "source": [
        "model_2 = tf.keras.Sequential()\n",
        "model_2.add(tf.keras.layers.Dense(units=1, input_shape=[1]))\n"
      ],
      "execution_count": 15,
      "outputs": []
    },
    {
      "cell_type": "code",
      "metadata": {
        "id": "OkObJq-C6qK9",
        "colab_type": "code",
        "colab": {
          "base_uri": "https://localhost:8080/",
          "height": 180
        },
        "outputId": "51ba0d5f-7939-4805-f7f7-9a6d09a88353"
      },
      "source": [
        "model_2.summary()"
      ],
      "execution_count": 16,
      "outputs": [
        {
          "output_type": "stream",
          "text": [
            "Model: \"sequential_1\"\n",
            "_________________________________________________________________\n",
            "Layer (type)                 Output Shape              Param #   \n",
            "=================================================================\n",
            "dense_1 (Dense)              (None, 1)                 2         \n",
            "=================================================================\n",
            "Total params: 2\n",
            "Trainable params: 2\n",
            "Non-trainable params: 0\n",
            "_________________________________________________________________\n"
          ],
          "name": "stdout"
        }
      ]
    },
    {
      "cell_type": "code",
      "metadata": {
        "id": "8aKyx0fH6y2t",
        "colab_type": "code",
        "colab": {}
      },
      "source": [
        "model_2.compile(optimizer=tf.keras.optimizers.Adam(0.5), loss=\"mean_squared_error\")"
      ],
      "execution_count": 17,
      "outputs": []
    },
    {
      "cell_type": "code",
      "metadata": {
        "id": "Oe2y5XBs8Buv",
        "colab_type": "code",
        "colab": {
          "base_uri": "https://localhost:8080/",
          "height": 1000
        },
        "outputId": "318515b5-96b2-4601-b0eb-c467fe2463f4"
      },
      "source": [
        "epochs_history_2 = model_2.fit(x_train, y_train, epochs=500)"
      ],
      "execution_count": 18,
      "outputs": [
        {
          "output_type": "stream",
          "text": [
            "Epoch 1/500\n",
            "1/1 [==============================] - 0s 1ms/step - loss: 5850.2666\n",
            "Epoch 2/500\n",
            "1/1 [==============================] - 0s 925us/step - loss: 4376.4478\n",
            "Epoch 3/500\n",
            "1/1 [==============================] - 0s 1ms/step - loss: 3166.9917\n",
            "Epoch 4/500\n",
            "1/1 [==============================] - 0s 1ms/step - loss: 2222.3672\n",
            "Epoch 5/500\n",
            "1/1 [==============================] - 0s 928us/step - loss: 1536.4695\n",
            "Epoch 6/500\n",
            "1/1 [==============================] - 0s 2ms/step - loss: 1093.9210\n",
            "Epoch 7/500\n",
            "1/1 [==============================] - 0s 1ms/step - loss: 867.3751\n",
            "Epoch 8/500\n",
            "1/1 [==============================] - 0s 1ms/step - loss: 816.0895\n",
            "Epoch 9/500\n",
            "1/1 [==============================] - 0s 4ms/step - loss: 887.5397\n",
            "Epoch 10/500\n",
            "1/1 [==============================] - 0s 1ms/step - loss: 1023.3423\n",
            "Epoch 11/500\n",
            "1/1 [==============================] - 0s 2ms/step - loss: 1168.5323\n",
            "Epoch 12/500\n",
            "1/1 [==============================] - 0s 1ms/step - loss: 1280.6516\n",
            "Epoch 13/500\n",
            "1/1 [==============================] - 0s 2ms/step - loss: 1334.8622\n",
            "Epoch 14/500\n",
            "1/1 [==============================] - 0s 2ms/step - loss: 1323.8456\n",
            "Epoch 15/500\n",
            "1/1 [==============================] - 0s 2ms/step - loss: 1254.0156\n",
            "Epoch 16/500\n",
            "1/1 [==============================] - 0s 3ms/step - loss: 1140.4167\n",
            "Epoch 17/500\n",
            "1/1 [==============================] - 0s 2ms/step - loss: 1001.9726\n",
            "Epoch 18/500\n",
            "1/1 [==============================] - 0s 2ms/step - loss: 857.7556\n",
            "Epoch 19/500\n",
            "1/1 [==============================] - 0s 2ms/step - loss: 724.3307\n",
            "Epoch 20/500\n",
            "1/1 [==============================] - 0s 3ms/step - loss: 614.0228\n",
            "Epoch 21/500\n",
            "1/1 [==============================] - 0s 2ms/step - loss: 533.9684\n",
            "Epoch 22/500\n",
            "1/1 [==============================] - 0s 1ms/step - loss: 485.8896\n",
            "Epoch 23/500\n",
            "1/1 [==============================] - 0s 2ms/step - loss: 466.5616\n",
            "Epoch 24/500\n",
            "1/1 [==============================] - 0s 3ms/step - loss: 468.9298\n",
            "Epoch 25/500\n",
            "1/1 [==============================] - 0s 1ms/step - loss: 483.7223\n",
            "Epoch 26/500\n",
            "1/1 [==============================] - 0s 2ms/step - loss: 501.2881\n",
            "Epoch 27/500\n",
            "1/1 [==============================] - 0s 2ms/step - loss: 513.3052\n",
            "Epoch 28/500\n",
            "1/1 [==============================] - 0s 2ms/step - loss: 514.0349\n",
            "Epoch 29/500\n",
            "1/1 [==============================] - 0s 2ms/step - loss: 500.9196\n",
            "Epoch 30/500\n",
            "1/1 [==============================] - 0s 2ms/step - loss: 474.5075\n",
            "Epoch 31/500\n",
            "1/1 [==============================] - 0s 3ms/step - loss: 437.8279\n",
            "Epoch 32/500\n",
            "1/1 [==============================] - 0s 2ms/step - loss: 395.4379\n",
            "Epoch 33/500\n",
            "1/1 [==============================] - 0s 3ms/step - loss: 352.3607\n",
            "Epoch 34/500\n",
            "1/1 [==============================] - 0s 2ms/step - loss: 313.1159\n",
            "Epoch 35/500\n",
            "1/1 [==============================] - 0s 2ms/step - loss: 280.9816\n",
            "Epoch 36/500\n",
            "1/1 [==============================] - 0s 2ms/step - loss: 257.5774\n",
            "Epoch 37/500\n",
            "1/1 [==============================] - 0s 1ms/step - loss: 242.7985\n",
            "Epoch 38/500\n",
            "1/1 [==============================] - 0s 2ms/step - loss: 235.0726\n",
            "Epoch 39/500\n",
            "1/1 [==============================] - 0s 3ms/step - loss: 231.8614\n",
            "Epoch 40/500\n",
            "1/1 [==============================] - 0s 2ms/step - loss: 230.2856\n",
            "Epoch 41/500\n",
            "1/1 [==============================] - 0s 2ms/step - loss: 227.7349\n",
            "Epoch 42/500\n",
            "1/1 [==============================] - 0s 2ms/step - loss: 222.3441\n",
            "Epoch 43/500\n",
            "1/1 [==============================] - 0s 2ms/step - loss: 213.2487\n",
            "Epoch 44/500\n",
            "1/1 [==============================] - 0s 3ms/step - loss: 200.6019\n",
            "Epoch 45/500\n",
            "1/1 [==============================] - 0s 4ms/step - loss: 185.3794\n",
            "Epoch 46/500\n",
            "1/1 [==============================] - 0s 4ms/step - loss: 169.0454\n",
            "Epoch 47/500\n",
            "1/1 [==============================] - 0s 1ms/step - loss: 153.1675\n",
            "Epoch 48/500\n",
            "1/1 [==============================] - 0s 2ms/step - loss: 139.0679\n",
            "Epoch 49/500\n",
            "1/1 [==============================] - 0s 3ms/step - loss: 127.5772\n",
            "Epoch 50/500\n",
            "1/1 [==============================] - 0s 1ms/step - loss: 118.9272\n",
            "Epoch 51/500\n",
            "1/1 [==============================] - 0s 3ms/step - loss: 112.7879\n",
            "Epoch 52/500\n",
            "1/1 [==============================] - 0s 2ms/step - loss: 108.4214\n",
            "Epoch 53/500\n",
            "1/1 [==============================] - 0s 3ms/step - loss: 104.9035\n",
            "Epoch 54/500\n",
            "1/1 [==============================] - 0s 2ms/step - loss: 101.3550\n",
            "Epoch 55/500\n",
            "1/1 [==============================] - 0s 3ms/step - loss: 97.1300\n",
            "Epoch 56/500\n",
            "1/1 [==============================] - 0s 3ms/step - loss: 91.9219\n",
            "Epoch 57/500\n",
            "1/1 [==============================] - 0s 3ms/step - loss: 85.7778\n",
            "Epoch 58/500\n",
            "1/1 [==============================] - 0s 3ms/step - loss: 79.0275\n",
            "Epoch 59/500\n",
            "1/1 [==============================] - 0s 3ms/step - loss: 72.1586\n",
            "Epoch 60/500\n",
            "1/1 [==============================] - 0s 3ms/step - loss: 65.6737\n",
            "Epoch 61/500\n",
            "1/1 [==============================] - 0s 6ms/step - loss: 59.9654\n",
            "Epoch 62/500\n",
            "1/1 [==============================] - 0s 1ms/step - loss: 55.2370\n",
            "Epoch 63/500\n",
            "1/1 [==============================] - 0s 3ms/step - loss: 51.4810\n",
            "Epoch 64/500\n",
            "1/1 [==============================] - 0s 3ms/step - loss: 48.5113\n",
            "Epoch 65/500\n",
            "1/1 [==============================] - 0s 3ms/step - loss: 46.0346\n",
            "Epoch 66/500\n",
            "1/1 [==============================] - 0s 3ms/step - loss: 43.7378\n",
            "Epoch 67/500\n",
            "1/1 [==============================] - 0s 3ms/step - loss: 41.3661\n",
            "Epoch 68/500\n",
            "1/1 [==============================] - 0s 3ms/step - loss: 38.7757\n",
            "Epoch 69/500\n",
            "1/1 [==============================] - 0s 3ms/step - loss: 35.9490\n",
            "Epoch 70/500\n",
            "1/1 [==============================] - 0s 3ms/step - loss: 32.9770\n",
            "Epoch 71/500\n",
            "1/1 [==============================] - 0s 3ms/step - loss: 30.0152\n",
            "Epoch 72/500\n",
            "1/1 [==============================] - 0s 3ms/step - loss: 27.2311\n",
            "Epoch 73/500\n",
            "1/1 [==============================] - 0s 3ms/step - loss: 24.7563\n",
            "Epoch 74/500\n",
            "1/1 [==============================] - 0s 3ms/step - loss: 22.6559\n",
            "Epoch 75/500\n",
            "1/1 [==============================] - 0s 3ms/step - loss: 20.9200\n",
            "Epoch 76/500\n",
            "1/1 [==============================] - 0s 2ms/step - loss: 19.4768\n",
            "Epoch 77/500\n",
            "1/1 [==============================] - 0s 3ms/step - loss: 18.2203\n",
            "Epoch 78/500\n",
            "1/1 [==============================] - 0s 2ms/step - loss: 17.0425\n",
            "Epoch 79/500\n",
            "1/1 [==============================] - 0s 2ms/step - loss: 15.8614\n",
            "Epoch 80/500\n",
            "1/1 [==============================] - 0s 1ms/step - loss: 14.6374\n",
            "Epoch 81/500\n",
            "1/1 [==============================] - 0s 3ms/step - loss: 13.3757\n",
            "Epoch 82/500\n",
            "1/1 [==============================] - 0s 4ms/step - loss: 12.1155\n",
            "Epoch 83/500\n",
            "1/1 [==============================] - 0s 2ms/step - loss: 10.9124\n",
            "Epoch 84/500\n",
            "1/1 [==============================] - 0s 1ms/step - loss: 9.8182\n",
            "Epoch 85/500\n",
            "1/1 [==============================] - 0s 2ms/step - loss: 8.8659\n",
            "Epoch 86/500\n",
            "1/1 [==============================] - 0s 2ms/step - loss: 8.0618\n",
            "Epoch 87/500\n",
            "1/1 [==============================] - 0s 2ms/step - loss: 7.3874\n",
            "Epoch 88/500\n",
            "1/1 [==============================] - 0s 1ms/step - loss: 6.8071\n",
            "Epoch 89/500\n",
            "1/1 [==============================] - 0s 1ms/step - loss: 6.2809\n",
            "Epoch 90/500\n",
            "1/1 [==============================] - 0s 2ms/step - loss: 5.7749\n",
            "Epoch 91/500\n",
            "1/1 [==============================] - 0s 1ms/step - loss: 5.2698\n",
            "Epoch 92/500\n",
            "1/1 [==============================] - 0s 1ms/step - loss: 4.7628\n",
            "Epoch 93/500\n",
            "1/1 [==============================] - 0s 2ms/step - loss: 4.2648\n",
            "Epoch 94/500\n",
            "1/1 [==============================] - 0s 1ms/step - loss: 3.7938\n",
            "Epoch 95/500\n",
            "1/1 [==============================] - 0s 2ms/step - loss: 3.3676\n",
            "Epoch 96/500\n",
            "1/1 [==============================] - 0s 2ms/step - loss: 2.9978\n",
            "Epoch 97/500\n",
            "1/1 [==============================] - 0s 2ms/step - loss: 2.6863\n",
            "Epoch 98/500\n",
            "1/1 [==============================] - 0s 2ms/step - loss: 2.4257\n",
            "Epoch 99/500\n",
            "1/1 [==============================] - 0s 1ms/step - loss: 2.2028\n",
            "Epoch 100/500\n",
            "1/1 [==============================] - 0s 1ms/step - loss: 2.0026\n",
            "Epoch 101/500\n",
            "1/1 [==============================] - 0s 4ms/step - loss: 1.8129\n",
            "Epoch 102/500\n",
            "1/1 [==============================] - 0s 980us/step - loss: 1.6268\n",
            "Epoch 103/500\n",
            "1/1 [==============================] - 0s 2ms/step - loss: 1.4437\n",
            "Epoch 104/500\n",
            "1/1 [==============================] - 0s 2ms/step - loss: 1.2678\n",
            "Epoch 105/500\n",
            "1/1 [==============================] - 0s 2ms/step - loss: 1.1053\n",
            "Epoch 106/500\n",
            "1/1 [==============================] - 0s 2ms/step - loss: 0.9619\n",
            "Epoch 107/500\n",
            "1/1 [==============================] - 0s 2ms/step - loss: 0.8407\n",
            "Epoch 108/500\n",
            "1/1 [==============================] - 0s 1ms/step - loss: 0.7410\n",
            "Epoch 109/500\n",
            "1/1 [==============================] - 0s 1ms/step - loss: 0.6589\n",
            "Epoch 110/500\n",
            "1/1 [==============================] - 0s 2ms/step - loss: 0.5892\n",
            "Epoch 111/500\n",
            "1/1 [==============================] - 0s 1ms/step - loss: 0.5262\n",
            "Epoch 112/500\n",
            "1/1 [==============================] - 0s 3ms/step - loss: 0.4662\n",
            "Epoch 113/500\n",
            "1/1 [==============================] - 0s 927us/step - loss: 0.4076\n",
            "Epoch 114/500\n",
            "1/1 [==============================] - 0s 1ms/step - loss: 0.3509\n",
            "Epoch 115/500\n",
            "1/1 [==============================] - 0s 2ms/step - loss: 0.2980\n",
            "Epoch 116/500\n",
            "1/1 [==============================] - 0s 2ms/step - loss: 0.2512\n",
            "Epoch 117/500\n",
            "1/1 [==============================] - 0s 2ms/step - loss: 0.2120\n",
            "Epoch 118/500\n",
            "1/1 [==============================] - 0s 2ms/step - loss: 0.1806\n",
            "Epoch 119/500\n",
            "1/1 [==============================] - 0s 1ms/step - loss: 0.1561\n",
            "Epoch 120/500\n",
            "1/1 [==============================] - 0s 1ms/step - loss: 0.1366\n",
            "Epoch 121/500\n",
            "1/1 [==============================] - 0s 959us/step - loss: 0.1198\n",
            "Epoch 122/500\n",
            "1/1 [==============================] - 0s 1ms/step - loss: 0.1042\n",
            "Epoch 123/500\n",
            "1/1 [==============================] - 0s 1ms/step - loss: 0.0889\n",
            "Epoch 124/500\n",
            "1/1 [==============================] - 0s 1ms/step - loss: 0.0739\n",
            "Epoch 125/500\n",
            "1/1 [==============================] - 0s 2ms/step - loss: 0.0597\n",
            "Epoch 126/500\n",
            "1/1 [==============================] - 0s 3ms/step - loss: 0.0473\n",
            "Epoch 127/500\n",
            "1/1 [==============================] - 0s 2ms/step - loss: 0.0372\n",
            "Epoch 128/500\n",
            "1/1 [==============================] - 0s 1ms/step - loss: 0.0298\n",
            "Epoch 129/500\n",
            "1/1 [==============================] - 0s 1ms/step - loss: 0.0246\n",
            "Epoch 130/500\n",
            "1/1 [==============================] - 0s 3ms/step - loss: 0.0210\n",
            "Epoch 131/500\n",
            "1/1 [==============================] - 0s 2ms/step - loss: 0.0182\n",
            "Epoch 132/500\n",
            "1/1 [==============================] - 0s 3ms/step - loss: 0.0156\n",
            "Epoch 133/500\n",
            "1/1 [==============================] - 0s 2ms/step - loss: 0.0128\n",
            "Epoch 134/500\n",
            "1/1 [==============================] - 0s 4ms/step - loss: 0.0098\n",
            "Epoch 135/500\n",
            "1/1 [==============================] - 0s 2ms/step - loss: 0.0069\n",
            "Epoch 136/500\n",
            "1/1 [==============================] - 0s 2ms/step - loss: 0.0045\n",
            "Epoch 137/500\n",
            "1/1 [==============================] - 0s 3ms/step - loss: 0.0027\n",
            "Epoch 138/500\n",
            "1/1 [==============================] - 0s 4ms/step - loss: 0.0017\n",
            "Epoch 139/500\n",
            "1/1 [==============================] - 0s 7ms/step - loss: 0.0013\n",
            "Epoch 140/500\n",
            "1/1 [==============================] - 0s 2ms/step - loss: 0.0014\n",
            "Epoch 141/500\n",
            "1/1 [==============================] - 0s 2ms/step - loss: 0.0015\n",
            "Epoch 142/500\n",
            "1/1 [==============================] - 0s 4ms/step - loss: 0.0015\n",
            "Epoch 143/500\n",
            "1/1 [==============================] - 0s 1ms/step - loss: 0.0013\n",
            "Epoch 144/500\n",
            "1/1 [==============================] - 0s 3ms/step - loss: 0.0010\n",
            "Epoch 145/500\n",
            "1/1 [==============================] - 0s 2ms/step - loss: 6.1405e-04\n",
            "Epoch 146/500\n",
            "1/1 [==============================] - 0s 3ms/step - loss: 3.1032e-04\n",
            "Epoch 147/500\n",
            "1/1 [==============================] - 0s 3ms/step - loss: 1.9068e-04\n",
            "Epoch 148/500\n",
            "1/1 [==============================] - 0s 1ms/step - loss: 2.7575e-04\n",
            "Epoch 149/500\n",
            "1/1 [==============================] - 0s 2ms/step - loss: 5.1284e-04\n",
            "Epoch 150/500\n",
            "1/1 [==============================] - 0s 903us/step - loss: 8.0599e-04\n",
            "Epoch 151/500\n",
            "1/1 [==============================] - 0s 2ms/step - loss: 0.0011\n",
            "Epoch 152/500\n",
            "1/1 [==============================] - 0s 3ms/step - loss: 0.0012\n",
            "Epoch 153/500\n",
            "1/1 [==============================] - 0s 3ms/step - loss: 0.0012\n",
            "Epoch 154/500\n",
            "1/1 [==============================] - 0s 3ms/step - loss: 0.0012\n",
            "Epoch 155/500\n",
            "1/1 [==============================] - 0s 3ms/step - loss: 0.0011\n",
            "Epoch 156/500\n",
            "1/1 [==============================] - 0s 3ms/step - loss: 0.0010\n",
            "Epoch 157/500\n",
            "1/1 [==============================] - 0s 3ms/step - loss: 0.0010\n",
            "Epoch 158/500\n",
            "1/1 [==============================] - 0s 2ms/step - loss: 0.0011\n",
            "Epoch 159/500\n",
            "1/1 [==============================] - 0s 3ms/step - loss: 0.0012\n",
            "Epoch 160/500\n",
            "1/1 [==============================] - 0s 2ms/step - loss: 0.0013\n",
            "Epoch 161/500\n",
            "1/1 [==============================] - 0s 3ms/step - loss: 0.0013\n",
            "Epoch 162/500\n",
            "1/1 [==============================] - 0s 3ms/step - loss: 0.0013\n",
            "Epoch 163/500\n",
            "1/1 [==============================] - 0s 2ms/step - loss: 0.0012\n",
            "Epoch 164/500\n",
            "1/1 [==============================] - 0s 4ms/step - loss: 0.0012\n",
            "Epoch 165/500\n",
            "1/1 [==============================] - 0s 2ms/step - loss: 0.0011\n",
            "Epoch 166/500\n",
            "1/1 [==============================] - 0s 2ms/step - loss: 0.0010\n",
            "Epoch 167/500\n",
            "1/1 [==============================] - 0s 3ms/step - loss: 9.7120e-04\n",
            "Epoch 168/500\n",
            "1/1 [==============================] - 0s 3ms/step - loss: 9.4960e-04\n",
            "Epoch 169/500\n",
            "1/1 [==============================] - 0s 3ms/step - loss: 9.3156e-04\n",
            "Epoch 170/500\n",
            "1/1 [==============================] - 0s 2ms/step - loss: 9.0407e-04\n",
            "Epoch 171/500\n",
            "1/1 [==============================] - 0s 4ms/step - loss: 8.5944e-04\n",
            "Epoch 172/500\n",
            "1/1 [==============================] - 0s 2ms/step - loss: 7.9847e-04\n",
            "Epoch 173/500\n",
            "1/1 [==============================] - 0s 2ms/step - loss: 7.2840e-04\n",
            "Epoch 174/500\n",
            "1/1 [==============================] - 0s 5ms/step - loss: 6.5891e-04\n",
            "Epoch 175/500\n",
            "1/1 [==============================] - 0s 1ms/step - loss: 5.9823e-04\n",
            "Epoch 176/500\n",
            "1/1 [==============================] - 0s 3ms/step - loss: 5.4991e-04\n",
            "Epoch 177/500\n",
            "1/1 [==============================] - 0s 3ms/step - loss: 5.1234e-04\n",
            "Epoch 178/500\n",
            "1/1 [==============================] - 0s 3ms/step - loss: 4.8040e-04\n",
            "Epoch 179/500\n",
            "1/1 [==============================] - 0s 4ms/step - loss: 4.4834e-04\n",
            "Epoch 180/500\n",
            "1/1 [==============================] - 0s 2ms/step - loss: 4.1242e-04\n",
            "Epoch 181/500\n",
            "1/1 [==============================] - 0s 2ms/step - loss: 3.7199e-04\n",
            "Epoch 182/500\n",
            "1/1 [==============================] - 0s 4ms/step - loss: 3.2964e-04\n",
            "Epoch 183/500\n",
            "1/1 [==============================] - 0s 2ms/step - loss: 2.8911e-04\n",
            "Epoch 184/500\n",
            "1/1 [==============================] - 0s 2ms/step - loss: 2.5368e-04\n",
            "Epoch 185/500\n",
            "1/1 [==============================] - 0s 4ms/step - loss: 2.2483e-04\n",
            "Epoch 186/500\n",
            "1/1 [==============================] - 0s 3ms/step - loss: 2.0196e-04\n",
            "Epoch 187/500\n",
            "1/1 [==============================] - 0s 3ms/step - loss: 1.8295e-04\n",
            "Epoch 188/500\n",
            "1/1 [==============================] - 0s 4ms/step - loss: 1.6531e-04\n",
            "Epoch 189/500\n",
            "1/1 [==============================] - 0s 1ms/step - loss: 1.4725e-04\n",
            "Epoch 190/500\n",
            "1/1 [==============================] - 0s 996us/step - loss: 1.2835e-04\n",
            "Epoch 191/500\n",
            "1/1 [==============================] - 0s 3ms/step - loss: 1.0946e-04\n",
            "Epoch 192/500\n",
            "1/1 [==============================] - 0s 4ms/step - loss: 9.1992e-05\n",
            "Epoch 193/500\n",
            "1/1 [==============================] - 0s 1ms/step - loss: 7.7163e-05\n",
            "Epoch 194/500\n",
            "1/1 [==============================] - 0s 3ms/step - loss: 6.5481e-05\n",
            "Epoch 195/500\n",
            "1/1 [==============================] - 0s 3ms/step - loss: 5.6640e-05\n",
            "Epoch 196/500\n",
            "1/1 [==============================] - 0s 3ms/step - loss: 4.9613e-05\n",
            "Epoch 197/500\n",
            "1/1 [==============================] - 0s 3ms/step - loss: 4.3396e-05\n",
            "Epoch 198/500\n",
            "1/1 [==============================] - 0s 14ms/step - loss: 3.7161e-05\n",
            "Epoch 199/500\n",
            "1/1 [==============================] - 0s 2ms/step - loss: 3.0787e-05\n",
            "Epoch 200/500\n",
            "1/1 [==============================] - 0s 6ms/step - loss: 2.4538e-05\n",
            "Epoch 201/500\n",
            "1/1 [==============================] - 0s 3ms/step - loss: 1.8987e-05\n",
            "Epoch 202/500\n",
            "1/1 [==============================] - 0s 4ms/step - loss: 1.4576e-05\n",
            "Epoch 203/500\n",
            "1/1 [==============================] - 0s 2ms/step - loss: 1.1470e-05\n",
            "Epoch 204/500\n",
            "1/1 [==============================] - 0s 2ms/step - loss: 9.4507e-06\n",
            "Epoch 205/500\n",
            "1/1 [==============================] - 0s 2ms/step - loss: 8.0697e-06\n",
            "Epoch 206/500\n",
            "1/1 [==============================] - 0s 2ms/step - loss: 6.8804e-06\n",
            "Epoch 207/500\n",
            "1/1 [==============================] - 0s 2ms/step - loss: 5.5945e-06\n",
            "Epoch 208/500\n",
            "1/1 [==============================] - 0s 1ms/step - loss: 4.1561e-06\n",
            "Epoch 209/500\n",
            "1/1 [==============================] - 0s 1ms/step - loss: 2.7475e-06\n",
            "Epoch 210/500\n",
            "1/1 [==============================] - 0s 2ms/step - loss: 1.5769e-06\n",
            "Epoch 211/500\n",
            "1/1 [==============================] - 0s 1ms/step - loss: 8.1959e-07\n",
            "Epoch 212/500\n",
            "1/1 [==============================] - 0s 2ms/step - loss: 5.0045e-07\n",
            "Epoch 213/500\n",
            "1/1 [==============================] - 0s 1ms/step - loss: 4.9992e-07\n",
            "Epoch 214/500\n",
            "1/1 [==============================] - 0s 1ms/step - loss: 6.2990e-07\n",
            "Epoch 215/500\n",
            "1/1 [==============================] - 0s 2ms/step - loss: 7.1532e-07\n",
            "Epoch 216/500\n",
            "1/1 [==============================] - 0s 1ms/step - loss: 6.7594e-07\n",
            "Epoch 217/500\n",
            "1/1 [==============================] - 0s 3ms/step - loss: 5.1982e-07\n",
            "Epoch 218/500\n",
            "1/1 [==============================] - 0s 2ms/step - loss: 3.3444e-07\n",
            "Epoch 219/500\n",
            "1/1 [==============================] - 0s 2ms/step - loss: 2.2268e-07\n",
            "Epoch 220/500\n",
            "1/1 [==============================] - 0s 2ms/step - loss: 2.3790e-07\n",
            "Epoch 221/500\n",
            "1/1 [==============================] - 0s 4ms/step - loss: 3.7479e-07\n",
            "Epoch 222/500\n",
            "1/1 [==============================] - 0s 1ms/step - loss: 5.7223e-07\n",
            "Epoch 223/500\n",
            "1/1 [==============================] - 0s 2ms/step - loss: 7.5612e-07\n",
            "Epoch 224/500\n",
            "1/1 [==============================] - 0s 1ms/step - loss: 8.7069e-07\n",
            "Epoch 225/500\n",
            "1/1 [==============================] - 0s 1ms/step - loss: 9.0029e-07\n",
            "Epoch 226/500\n",
            "1/1 [==============================] - 0s 1ms/step - loss: 8.6884e-07\n",
            "Epoch 227/500\n",
            "1/1 [==============================] - 0s 1ms/step - loss: 8.2201e-07\n",
            "Epoch 228/500\n",
            "1/1 [==============================] - 0s 1ms/step - loss: 8.0367e-07\n",
            "Epoch 229/500\n",
            "1/1 [==============================] - 0s 1ms/step - loss: 8.2476e-07\n",
            "Epoch 230/500\n",
            "1/1 [==============================] - 0s 1ms/step - loss: 8.7658e-07\n",
            "Epoch 231/500\n",
            "1/1 [==============================] - 0s 1ms/step - loss: 9.3220e-07\n",
            "Epoch 232/500\n",
            "1/1 [==============================] - 0s 2ms/step - loss: 9.5712e-07\n",
            "Epoch 233/500\n",
            "1/1 [==============================] - 0s 3ms/step - loss: 9.4412e-07\n",
            "Epoch 234/500\n",
            "1/1 [==============================] - 0s 2ms/step - loss: 8.9902e-07\n",
            "Epoch 235/500\n",
            "1/1 [==============================] - 0s 1ms/step - loss: 8.3428e-07\n",
            "Epoch 236/500\n",
            "1/1 [==============================] - 0s 1ms/step - loss: 7.7281e-07\n",
            "Epoch 237/500\n",
            "1/1 [==============================] - 0s 1ms/step - loss: 7.2695e-07\n",
            "Epoch 238/500\n",
            "1/1 [==============================] - 0s 1ms/step - loss: 6.9763e-07\n",
            "Epoch 239/500\n",
            "1/1 [==============================] - 0s 1ms/step - loss: 6.7721e-07\n",
            "Epoch 240/500\n",
            "1/1 [==============================] - 0s 1ms/step - loss: 6.5525e-07\n",
            "Epoch 241/500\n",
            "1/1 [==============================] - 0s 1ms/step - loss: 6.1990e-07\n",
            "Epoch 242/500\n",
            "1/1 [==============================] - 0s 2ms/step - loss: 5.7017e-07\n",
            "Epoch 243/500\n",
            "1/1 [==============================] - 0s 2ms/step - loss: 5.1252e-07\n",
            "Epoch 244/500\n",
            "1/1 [==============================] - 0s 1ms/step - loss: 4.5501e-07\n",
            "Epoch 245/500\n",
            "1/1 [==============================] - 0s 2ms/step - loss: 4.0603e-07\n",
            "Epoch 246/500\n",
            "1/1 [==============================] - 0s 1ms/step - loss: 3.6929e-07\n",
            "Epoch 247/500\n",
            "1/1 [==============================] - 0s 1ms/step - loss: 3.3997e-07\n",
            "Epoch 248/500\n",
            "1/1 [==============================] - 0s 2ms/step - loss: 3.1424e-07\n",
            "Epoch 249/500\n",
            "1/1 [==============================] - 0s 5ms/step - loss: 2.8584e-07\n",
            "Epoch 250/500\n",
            "1/1 [==============================] - 0s 1ms/step - loss: 2.5348e-07\n",
            "Epoch 251/500\n",
            "1/1 [==============================] - 0s 5ms/step - loss: 2.1948e-07\n",
            "Epoch 252/500\n",
            "1/1 [==============================] - 0s 1ms/step - loss: 1.8695e-07\n",
            "Epoch 253/500\n",
            "1/1 [==============================] - 0s 1ms/step - loss: 1.5835e-07\n",
            "Epoch 254/500\n",
            "1/1 [==============================] - 0s 995us/step - loss: 1.3605e-07\n",
            "Epoch 255/500\n",
            "1/1 [==============================] - 0s 1ms/step - loss: 1.2006e-07\n",
            "Epoch 256/500\n",
            "1/1 [==============================] - 0s 1ms/step - loss: 1.0625e-07\n",
            "Epoch 257/500\n",
            "1/1 [==============================] - 0s 2ms/step - loss: 9.3661e-08\n",
            "Epoch 258/500\n",
            "1/1 [==============================] - 0s 3ms/step - loss: 8.0011e-08\n",
            "Epoch 259/500\n",
            "1/1 [==============================] - 0s 2ms/step - loss: 6.5747e-08\n",
            "Epoch 260/500\n",
            "1/1 [==============================] - 0s 1ms/step - loss: 5.1916e-08\n",
            "Epoch 261/500\n",
            "1/1 [==============================] - 0s 940us/step - loss: 4.0325e-08\n",
            "Epoch 262/500\n",
            "1/1 [==============================] - 0s 1ms/step - loss: 3.2100e-08\n",
            "Epoch 263/500\n",
            "1/1 [==============================] - 0s 2ms/step - loss: 2.6570e-08\n",
            "Epoch 264/500\n",
            "1/1 [==============================] - 0s 983us/step - loss: 2.2563e-08\n",
            "Epoch 265/500\n",
            "1/1 [==============================] - 0s 2ms/step - loss: 1.8952e-08\n",
            "Epoch 266/500\n",
            "1/1 [==============================] - 0s 2ms/step - loss: 1.5330e-08\n",
            "Epoch 267/500\n",
            "1/1 [==============================] - 0s 2ms/step - loss: 1.1363e-08\n",
            "Epoch 268/500\n",
            "1/1 [==============================] - 0s 2ms/step - loss: 7.9274e-09\n",
            "Epoch 269/500\n",
            "1/1 [==============================] - 0s 1ms/step - loss: 4.7113e-09\n",
            "Epoch 270/500\n",
            "1/1 [==============================] - 0s 2ms/step - loss: 3.0473e-09\n",
            "Epoch 271/500\n",
            "1/1 [==============================] - 0s 3ms/step - loss: 2.2972e-09\n",
            "Epoch 272/500\n",
            "1/1 [==============================] - 0s 939us/step - loss: 2.1342e-09\n",
            "Epoch 273/500\n",
            "1/1 [==============================] - 0s 985us/step - loss: 2.1319e-09\n",
            "Epoch 274/500\n",
            "1/1 [==============================] - 0s 3ms/step - loss: 1.9112e-09\n",
            "Epoch 275/500\n",
            "1/1 [==============================] - 0s 1ms/step - loss: 1.3258e-09\n",
            "Epoch 276/500\n",
            "1/1 [==============================] - 0s 1ms/step - loss: 6.5268e-10\n",
            "Epoch 277/500\n",
            "1/1 [==============================] - 0s 970us/step - loss: 2.1576e-10\n",
            "Epoch 278/500\n",
            "1/1 [==============================] - 0s 2ms/step - loss: 2.3250e-10\n",
            "Epoch 279/500\n",
            "1/1 [==============================] - 0s 1ms/step - loss: 5.0365e-10\n",
            "Epoch 280/500\n",
            "1/1 [==============================] - 0s 2ms/step - loss: 1.0605e-09\n",
            "Epoch 281/500\n",
            "1/1 [==============================] - 0s 2ms/step - loss: 1.5508e-09\n",
            "Epoch 282/500\n",
            "1/1 [==============================] - 0s 2ms/step - loss: 1.7402e-09\n",
            "Epoch 283/500\n",
            "1/1 [==============================] - 0s 2ms/step - loss: 1.7837e-09\n",
            "Epoch 284/500\n",
            "1/1 [==============================] - 0s 1ms/step - loss: 1.7396e-09\n",
            "Epoch 285/500\n",
            "1/1 [==============================] - 0s 2ms/step - loss: 1.8142e-09\n",
            "Epoch 286/500\n",
            "1/1 [==============================] - 0s 1ms/step - loss: 1.7203e-09\n",
            "Epoch 287/500\n",
            "1/1 [==============================] - 0s 3ms/step - loss: 1.8073e-09\n",
            "Epoch 288/500\n",
            "1/1 [==============================] - 0s 1ms/step - loss: 1.8903e-09\n",
            "Epoch 289/500\n",
            "1/1 [==============================] - 0s 1ms/step - loss: 2.0248e-09\n",
            "Epoch 290/500\n",
            "1/1 [==============================] - 0s 1ms/step - loss: 2.0248e-09\n",
            "Epoch 291/500\n",
            "1/1 [==============================] - 0s 3ms/step - loss: 1.8903e-09\n",
            "Epoch 292/500\n",
            "1/1 [==============================] - 0s 1ms/step - loss: 1.8725e-09\n",
            "Epoch 293/500\n",
            "1/1 [==============================] - 0s 1ms/step - loss: 1.8097e-09\n",
            "Epoch 294/500\n",
            "1/1 [==============================] - 0s 1ms/step - loss: 1.7203e-09\n",
            "Epoch 295/500\n",
            "1/1 [==============================] - 0s 3ms/step - loss: 1.7641e-09\n",
            "Epoch 296/500\n",
            "1/1 [==============================] - 0s 2ms/step - loss: 1.8142e-09\n",
            "Epoch 297/500\n",
            "1/1 [==============================] - 0s 2ms/step - loss: 1.8410e-09\n",
            "Epoch 298/500\n",
            "1/1 [==============================] - 0s 1ms/step - loss: 1.8410e-09\n",
            "Epoch 299/500\n",
            "1/1 [==============================] - 0s 2ms/step - loss: 1.8142e-09\n",
            "Epoch 300/500\n",
            "1/1 [==============================] - 0s 966us/step - loss: 1.7641e-09\n",
            "Epoch 301/500\n",
            "1/1 [==============================] - 0s 1ms/step - loss: 1.7658e-09\n",
            "Epoch 302/500\n",
            "1/1 [==============================] - 0s 1ms/step - loss: 1.7203e-09\n",
            "Epoch 303/500\n",
            "1/1 [==============================] - 0s 3ms/step - loss: 1.8043e-09\n",
            "Epoch 304/500\n",
            "1/1 [==============================] - 0s 947us/step - loss: 1.8097e-09\n",
            "Epoch 305/500\n",
            "1/1 [==============================] - 0s 3ms/step - loss: 1.8097e-09\n",
            "Epoch 306/500\n",
            "1/1 [==============================] - 0s 2ms/step - loss: 1.4815e-09\n",
            "Epoch 307/500\n",
            "1/1 [==============================] - 0s 3ms/step - loss: 1.1883e-09\n",
            "Epoch 308/500\n",
            "1/1 [==============================] - 0s 3ms/step - loss: 9.1838e-10\n",
            "Epoch 309/500\n",
            "1/1 [==============================] - 0s 3ms/step - loss: 7.4206e-10\n",
            "Epoch 310/500\n",
            "1/1 [==============================] - 0s 2ms/step - loss: 5.1808e-10\n",
            "Epoch 311/500\n",
            "1/1 [==============================] - 0s 8ms/step - loss: 5.4464e-10\n",
            "Epoch 312/500\n",
            "1/1 [==============================] - 0s 1ms/step - loss: 5.4464e-10\n",
            "Epoch 313/500\n",
            "1/1 [==============================] - 0s 1ms/step - loss: 5.4464e-10\n",
            "Epoch 314/500\n",
            "1/1 [==============================] - 0s 1ms/step - loss: 5.1808e-10\n",
            "Epoch 315/500\n",
            "1/1 [==============================] - 0s 4ms/step - loss: 5.3663e-10\n",
            "Epoch 316/500\n",
            "1/1 [==============================] - 0s 1ms/step - loss: 5.3663e-10\n",
            "Epoch 317/500\n",
            "1/1 [==============================] - 0s 3ms/step - loss: 5.3663e-10\n",
            "Epoch 318/500\n",
            "1/1 [==============================] - 0s 3ms/step - loss: 5.3663e-10\n",
            "Epoch 319/500\n",
            "1/1 [==============================] - 0s 3ms/step - loss: 5.3663e-10\n",
            "Epoch 320/500\n",
            "1/1 [==============================] - 0s 3ms/step - loss: 5.3663e-10\n",
            "Epoch 321/500\n",
            "1/1 [==============================] - 0s 995us/step - loss: 5.3663e-10\n",
            "Epoch 322/500\n",
            "1/1 [==============================] - 0s 901us/step - loss: 5.1808e-10\n",
            "Epoch 323/500\n",
            "1/1 [==============================] - 0s 1ms/step - loss: 5.1808e-10\n",
            "Epoch 324/500\n",
            "1/1 [==============================] - 0s 1ms/step - loss: 5.1808e-10\n",
            "Epoch 325/500\n",
            "1/1 [==============================] - 0s 2ms/step - loss: 5.1808e-10\n",
            "Epoch 326/500\n",
            "1/1 [==============================] - 0s 988us/step - loss: 5.1808e-10\n",
            "Epoch 327/500\n",
            "1/1 [==============================] - 0s 2ms/step - loss: 5.1808e-10\n",
            "Epoch 328/500\n",
            "1/1 [==============================] - 0s 4ms/step - loss: 5.1808e-10\n",
            "Epoch 329/500\n",
            "1/1 [==============================] - 0s 998us/step - loss: 5.1808e-10\n",
            "Epoch 330/500\n",
            "1/1 [==============================] - 0s 1ms/step - loss: 5.1808e-10\n",
            "Epoch 331/500\n",
            "1/1 [==============================] - 0s 3ms/step - loss: 5.1808e-10\n",
            "Epoch 332/500\n",
            "1/1 [==============================] - 0s 844us/step - loss: 5.1808e-10\n",
            "Epoch 333/500\n",
            "1/1 [==============================] - 0s 975us/step - loss: 5.3663e-10\n",
            "Epoch 334/500\n",
            "1/1 [==============================] - 0s 2ms/step - loss: 5.3663e-10\n",
            "Epoch 335/500\n",
            "1/1 [==============================] - 0s 2ms/step - loss: 5.3663e-10\n",
            "Epoch 336/500\n",
            "1/1 [==============================] - 0s 1ms/step - loss: 5.3663e-10\n",
            "Epoch 337/500\n",
            "1/1 [==============================] - 0s 1ms/step - loss: 5.3663e-10\n",
            "Epoch 338/500\n",
            "1/1 [==============================] - 0s 932us/step - loss: 5.3663e-10\n",
            "Epoch 339/500\n",
            "1/1 [==============================] - 0s 1ms/step - loss: 5.3663e-10\n",
            "Epoch 340/500\n",
            "1/1 [==============================] - 0s 1ms/step - loss: 5.1808e-10\n",
            "Epoch 341/500\n",
            "1/1 [==============================] - 0s 1ms/step - loss: 5.1808e-10\n",
            "Epoch 342/500\n",
            "1/1 [==============================] - 0s 925us/step - loss: 5.1808e-10\n",
            "Epoch 343/500\n",
            "1/1 [==============================] - 0s 966us/step - loss: 5.1808e-10\n",
            "Epoch 344/500\n",
            "1/1 [==============================] - 0s 1ms/step - loss: 5.1808e-10\n",
            "Epoch 345/500\n",
            "1/1 [==============================] - 0s 3ms/step - loss: 5.1808e-10\n",
            "Epoch 346/500\n",
            "1/1 [==============================] - 0s 1ms/step - loss: 5.1808e-10\n",
            "Epoch 347/500\n",
            "1/1 [==============================] - 0s 1ms/step - loss: 5.1808e-10\n",
            "Epoch 348/500\n",
            "1/1 [==============================] - 0s 901us/step - loss: 5.1808e-10\n",
            "Epoch 349/500\n",
            "1/1 [==============================] - 0s 2ms/step - loss: 5.1808e-10\n",
            "Epoch 350/500\n",
            "1/1 [==============================] - 0s 1ms/step - loss: 5.1808e-10\n",
            "Epoch 351/500\n",
            "1/1 [==============================] - 0s 1ms/step - loss: 5.3663e-10\n",
            "Epoch 352/500\n",
            "1/1 [==============================] - 0s 2ms/step - loss: 5.3663e-10\n",
            "Epoch 353/500\n",
            "1/1 [==============================] - 0s 966us/step - loss: 5.3663e-10\n",
            "Epoch 354/500\n",
            "1/1 [==============================] - 0s 2ms/step - loss: 5.3663e-10\n",
            "Epoch 355/500\n",
            "1/1 [==============================] - 0s 1ms/step - loss: 5.3663e-10\n",
            "Epoch 356/500\n",
            "1/1 [==============================] - 0s 1ms/step - loss: 5.3663e-10\n",
            "Epoch 357/500\n",
            "1/1 [==============================] - 0s 4ms/step - loss: 5.3663e-10\n",
            "Epoch 358/500\n",
            "1/1 [==============================] - 0s 975us/step - loss: 5.1808e-10\n",
            "Epoch 359/500\n",
            "1/1 [==============================] - 0s 1ms/step - loss: 5.1808e-10\n",
            "Epoch 360/500\n",
            "1/1 [==============================] - 0s 3ms/step - loss: 5.1808e-10\n",
            "Epoch 361/500\n",
            "1/1 [==============================] - 0s 894us/step - loss: 5.1808e-10\n",
            "Epoch 362/500\n",
            "1/1 [==============================] - 0s 1ms/step - loss: 5.1808e-10\n",
            "Epoch 363/500\n",
            "1/1 [==============================] - 0s 3ms/step - loss: 5.1808e-10\n",
            "Epoch 364/500\n",
            "1/1 [==============================] - 0s 1ms/step - loss: 5.1808e-10\n",
            "Epoch 365/500\n",
            "1/1 [==============================] - 0s 1ms/step - loss: 5.1808e-10\n",
            "Epoch 366/500\n",
            "1/1 [==============================] - 0s 3ms/step - loss: 5.1808e-10\n",
            "Epoch 367/500\n",
            "1/1 [==============================] - 0s 3ms/step - loss: 5.1808e-10\n",
            "Epoch 368/500\n",
            "1/1 [==============================] - 0s 2ms/step - loss: 5.3663e-10\n",
            "Epoch 369/500\n",
            "1/1 [==============================] - 0s 2ms/step - loss: 5.3663e-10\n",
            "Epoch 370/500\n",
            "1/1 [==============================] - 0s 2ms/step - loss: 5.3663e-10\n",
            "Epoch 371/500\n",
            "1/1 [==============================] - 0s 1ms/step - loss: 5.3663e-10\n",
            "Epoch 372/500\n",
            "1/1 [==============================] - 0s 2ms/step - loss: 5.3663e-10\n",
            "Epoch 373/500\n",
            "1/1 [==============================] - 0s 1ms/step - loss: 5.3663e-10\n",
            "Epoch 374/500\n",
            "1/1 [==============================] - 0s 1ms/step - loss: 5.1808e-10\n",
            "Epoch 375/500\n",
            "1/1 [==============================] - 0s 3ms/step - loss: 5.1808e-10\n",
            "Epoch 376/500\n",
            "1/1 [==============================] - 0s 1ms/step - loss: 5.1808e-10\n",
            "Epoch 377/500\n",
            "1/1 [==============================] - 0s 1ms/step - loss: 5.1808e-10\n",
            "Epoch 378/500\n",
            "1/1 [==============================] - 0s 1ms/step - loss: 5.1808e-10\n",
            "Epoch 379/500\n",
            "1/1 [==============================] - 0s 2ms/step - loss: 5.1808e-10\n",
            "Epoch 380/500\n",
            "1/1 [==============================] - 0s 1ms/step - loss: 5.1808e-10\n",
            "Epoch 381/500\n",
            "1/1 [==============================] - 0s 1ms/step - loss: 5.1808e-10\n",
            "Epoch 382/500\n",
            "1/1 [==============================] - 0s 2ms/step - loss: 5.1808e-10\n",
            "Epoch 383/500\n",
            "1/1 [==============================] - 0s 1ms/step - loss: 5.1808e-10\n",
            "Epoch 384/500\n",
            "1/1 [==============================] - 0s 3ms/step - loss: 5.3663e-10\n",
            "Epoch 385/500\n",
            "1/1 [==============================] - 0s 3ms/step - loss: 5.3663e-10\n",
            "Epoch 386/500\n",
            "1/1 [==============================] - 0s 2ms/step - loss: 5.3663e-10\n",
            "Epoch 387/500\n",
            "1/1 [==============================] - 0s 3ms/step - loss: 5.3663e-10\n",
            "Epoch 388/500\n",
            "1/1 [==============================] - 0s 2ms/step - loss: 5.3663e-10\n",
            "Epoch 389/500\n",
            "1/1 [==============================] - 0s 1ms/step - loss: 5.3663e-10\n",
            "Epoch 390/500\n",
            "1/1 [==============================] - 0s 2ms/step - loss: 5.1808e-10\n",
            "Epoch 391/500\n",
            "1/1 [==============================] - 0s 2ms/step - loss: 5.1808e-10\n",
            "Epoch 392/500\n",
            "1/1 [==============================] - 0s 2ms/step - loss: 5.1808e-10\n",
            "Epoch 393/500\n",
            "1/1 [==============================] - 0s 2ms/step - loss: 5.1808e-10\n",
            "Epoch 394/500\n",
            "1/1 [==============================] - 0s 3ms/step - loss: 5.1808e-10\n",
            "Epoch 395/500\n",
            "1/1 [==============================] - 0s 2ms/step - loss: 5.1808e-10\n",
            "Epoch 396/500\n",
            "1/1 [==============================] - 0s 3ms/step - loss: 5.1808e-10\n",
            "Epoch 397/500\n",
            "1/1 [==============================] - 0s 2ms/step - loss: 5.1808e-10\n",
            "Epoch 398/500\n",
            "1/1 [==============================] - 0s 4ms/step - loss: 5.1808e-10\n",
            "Epoch 399/500\n",
            "1/1 [==============================] - 0s 1ms/step - loss: 5.3663e-10\n",
            "Epoch 400/500\n",
            "1/1 [==============================] - 0s 3ms/step - loss: 5.3663e-10\n",
            "Epoch 401/500\n",
            "1/1 [==============================] - 0s 2ms/step - loss: 5.3663e-10\n",
            "Epoch 402/500\n",
            "1/1 [==============================] - 0s 3ms/step - loss: 5.3663e-10\n",
            "Epoch 403/500\n",
            "1/1 [==============================] - 0s 6ms/step - loss: 5.3663e-10\n",
            "Epoch 404/500\n",
            "1/1 [==============================] - 0s 3ms/step - loss: 5.3663e-10\n",
            "Epoch 405/500\n",
            "1/1 [==============================] - 0s 2ms/step - loss: 5.1808e-10\n",
            "Epoch 406/500\n",
            "1/1 [==============================] - 0s 1ms/step - loss: 5.1808e-10\n",
            "Epoch 407/500\n",
            "1/1 [==============================] - 0s 2ms/step - loss: 5.1808e-10\n",
            "Epoch 408/500\n",
            "1/1 [==============================] - 0s 1ms/step - loss: 5.1808e-10\n",
            "Epoch 409/500\n",
            "1/1 [==============================] - 0s 2ms/step - loss: 5.1808e-10\n",
            "Epoch 410/500\n",
            "1/1 [==============================] - 0s 2ms/step - loss: 5.1808e-10\n",
            "Epoch 411/500\n",
            "1/1 [==============================] - 0s 2ms/step - loss: 5.1808e-10\n",
            "Epoch 412/500\n",
            "1/1 [==============================] - 0s 5ms/step - loss: 5.1808e-10\n",
            "Epoch 413/500\n",
            "1/1 [==============================] - 0s 1ms/step - loss: 5.1808e-10\n",
            "Epoch 414/500\n",
            "1/1 [==============================] - 0s 1ms/step - loss: 5.3663e-10\n",
            "Epoch 415/500\n",
            "1/1 [==============================] - 0s 2ms/step - loss: 5.3663e-10\n",
            "Epoch 416/500\n",
            "1/1 [==============================] - 0s 2ms/step - loss: 5.3663e-10\n",
            "Epoch 417/500\n",
            "1/1 [==============================] - 0s 2ms/step - loss: 5.3663e-10\n",
            "Epoch 418/500\n",
            "1/1 [==============================] - 0s 1ms/step - loss: 5.3663e-10\n",
            "Epoch 419/500\n",
            "1/1 [==============================] - 0s 1ms/step - loss: 5.3663e-10\n",
            "Epoch 420/500\n",
            "1/1 [==============================] - 0s 2ms/step - loss: 5.1808e-10\n",
            "Epoch 421/500\n",
            "1/1 [==============================] - 0s 1ms/step - loss: 5.1808e-10\n",
            "Epoch 422/500\n",
            "1/1 [==============================] - 0s 2ms/step - loss: 5.1808e-10\n",
            "Epoch 423/500\n",
            "1/1 [==============================] - 0s 2ms/step - loss: 5.1808e-10\n",
            "Epoch 424/500\n",
            "1/1 [==============================] - 0s 2ms/step - loss: 5.1808e-10\n",
            "Epoch 425/500\n",
            "1/1 [==============================] - 0s 5ms/step - loss: 5.1808e-10\n",
            "Epoch 426/500\n",
            "1/1 [==============================] - 0s 2ms/step - loss: 5.1808e-10\n",
            "Epoch 427/500\n",
            "1/1 [==============================] - 0s 2ms/step - loss: 5.1808e-10\n",
            "Epoch 428/500\n",
            "1/1 [==============================] - 0s 1ms/step - loss: 5.1808e-10\n",
            "Epoch 429/500\n",
            "1/1 [==============================] - 0s 2ms/step - loss: 5.3663e-10\n",
            "Epoch 430/500\n",
            "1/1 [==============================] - 0s 1ms/step - loss: 5.3663e-10\n",
            "Epoch 431/500\n",
            "1/1 [==============================] - 0s 1ms/step - loss: 5.3663e-10\n",
            "Epoch 432/500\n",
            "1/1 [==============================] - 0s 2ms/step - loss: 5.3663e-10\n",
            "Epoch 433/500\n",
            "1/1 [==============================] - 0s 2ms/step - loss: 5.3663e-10\n",
            "Epoch 434/500\n",
            "1/1 [==============================] - 0s 1ms/step - loss: 5.3663e-10\n",
            "Epoch 435/500\n",
            "1/1 [==============================] - 0s 3ms/step - loss: 5.1808e-10\n",
            "Epoch 436/500\n",
            "1/1 [==============================] - 0s 2ms/step - loss: 5.1808e-10\n",
            "Epoch 437/500\n",
            "1/1 [==============================] - 0s 1ms/step - loss: 5.1808e-10\n",
            "Epoch 438/500\n",
            "1/1 [==============================] - 0s 2ms/step - loss: 5.1808e-10\n",
            "Epoch 439/500\n",
            "1/1 [==============================] - 0s 2ms/step - loss: 5.1808e-10\n",
            "Epoch 440/500\n",
            "1/1 [==============================] - 0s 2ms/step - loss: 5.1808e-10\n",
            "Epoch 441/500\n",
            "1/1 [==============================] - 0s 1ms/step - loss: 5.1808e-10\n",
            "Epoch 442/500\n",
            "1/1 [==============================] - 0s 2ms/step - loss: 5.1808e-10\n",
            "Epoch 443/500\n",
            "1/1 [==============================] - 0s 1ms/step - loss: 5.1808e-10\n",
            "Epoch 444/500\n",
            "1/1 [==============================] - 0s 1ms/step - loss: 5.3663e-10\n",
            "Epoch 445/500\n",
            "1/1 [==============================] - 0s 1ms/step - loss: 5.3663e-10\n",
            "Epoch 446/500\n",
            "1/1 [==============================] - 0s 1ms/step - loss: 5.3663e-10\n",
            "Epoch 447/500\n",
            "1/1 [==============================] - 0s 3ms/step - loss: 5.3663e-10\n",
            "Epoch 448/500\n",
            "1/1 [==============================] - 0s 3ms/step - loss: 5.3663e-10\n",
            "Epoch 449/500\n",
            "1/1 [==============================] - 0s 4ms/step - loss: 5.3663e-10\n",
            "Epoch 450/500\n",
            "1/1 [==============================] - 0s 1ms/step - loss: 5.1808e-10\n",
            "Epoch 451/500\n",
            "1/1 [==============================] - 0s 2ms/step - loss: 5.1808e-10\n",
            "Epoch 452/500\n",
            "1/1 [==============================] - 0s 2ms/step - loss: 5.1808e-10\n",
            "Epoch 453/500\n",
            "1/1 [==============================] - 0s 2ms/step - loss: 5.1808e-10\n",
            "Epoch 454/500\n",
            "1/1 [==============================] - 0s 3ms/step - loss: 5.1808e-10\n",
            "Epoch 455/500\n",
            "1/1 [==============================] - 0s 3ms/step - loss: 5.1808e-10\n",
            "Epoch 456/500\n",
            "1/1 [==============================] - 0s 3ms/step - loss: 5.1808e-10\n",
            "Epoch 457/500\n",
            "1/1 [==============================] - 0s 3ms/step - loss: 5.1808e-10\n",
            "Epoch 458/500\n",
            "1/1 [==============================] - 0s 2ms/step - loss: 5.1808e-10\n",
            "Epoch 459/500\n",
            "1/1 [==============================] - 0s 2ms/step - loss: 5.3663e-10\n",
            "Epoch 460/500\n",
            "1/1 [==============================] - 0s 2ms/step - loss: 5.3663e-10\n",
            "Epoch 461/500\n",
            "1/1 [==============================] - 0s 6ms/step - loss: 5.3663e-10\n",
            "Epoch 462/500\n",
            "1/1 [==============================] - 0s 3ms/step - loss: 5.3663e-10\n",
            "Epoch 463/500\n",
            "1/1 [==============================] - 0s 5ms/step - loss: 5.3663e-10\n",
            "Epoch 464/500\n",
            "1/1 [==============================] - 0s 4ms/step - loss: 5.3663e-10\n",
            "Epoch 465/500\n",
            "1/1 [==============================] - 0s 2ms/step - loss: 5.1808e-10\n",
            "Epoch 466/500\n",
            "1/1 [==============================] - 0s 8ms/step - loss: 5.1808e-10\n",
            "Epoch 467/500\n",
            "1/1 [==============================] - 0s 4ms/step - loss: 5.1808e-10\n",
            "Epoch 468/500\n",
            "1/1 [==============================] - 0s 3ms/step - loss: 5.1808e-10\n",
            "Epoch 469/500\n",
            "1/1 [==============================] - 0s 2ms/step - loss: 5.1808e-10\n",
            "Epoch 470/500\n",
            "1/1 [==============================] - 0s 2ms/step - loss: 5.1808e-10\n",
            "Epoch 471/500\n",
            "1/1 [==============================] - 0s 2ms/step - loss: 5.1808e-10\n",
            "Epoch 472/500\n",
            "1/1 [==============================] - 0s 2ms/step - loss: 5.1808e-10\n",
            "Epoch 473/500\n",
            "1/1 [==============================] - 0s 3ms/step - loss: 5.1808e-10\n",
            "Epoch 474/500\n",
            "1/1 [==============================] - 0s 3ms/step - loss: 5.3663e-10\n",
            "Epoch 475/500\n",
            "1/1 [==============================] - 0s 2ms/step - loss: 5.3663e-10\n",
            "Epoch 476/500\n",
            "1/1 [==============================] - 0s 2ms/step - loss: 5.3663e-10\n",
            "Epoch 477/500\n",
            "1/1 [==============================] - 0s 2ms/step - loss: 5.3663e-10\n",
            "Epoch 478/500\n",
            "1/1 [==============================] - 0s 2ms/step - loss: 5.3663e-10\n",
            "Epoch 479/500\n",
            "1/1 [==============================] - 0s 1ms/step - loss: 5.3663e-10\n",
            "Epoch 480/500\n",
            "1/1 [==============================] - 0s 2ms/step - loss: 5.1808e-10\n",
            "Epoch 481/500\n",
            "1/1 [==============================] - 0s 1ms/step - loss: 5.1808e-10\n",
            "Epoch 482/500\n",
            "1/1 [==============================] - 0s 2ms/step - loss: 5.1808e-10\n",
            "Epoch 483/500\n",
            "1/1 [==============================] - 0s 1ms/step - loss: 5.1808e-10\n",
            "Epoch 484/500\n",
            "1/1 [==============================] - 0s 11ms/step - loss: 5.1808e-10\n",
            "Epoch 485/500\n",
            "1/1 [==============================] - 0s 3ms/step - loss: 5.1808e-10\n",
            "Epoch 486/500\n",
            "1/1 [==============================] - 0s 2ms/step - loss: 5.1808e-10\n",
            "Epoch 487/500\n",
            "1/1 [==============================] - 0s 2ms/step - loss: 5.1808e-10\n",
            "Epoch 488/500\n",
            "1/1 [==============================] - 0s 1ms/step - loss: 5.1808e-10\n",
            "Epoch 489/500\n",
            "1/1 [==============================] - 0s 2ms/step - loss: 5.3663e-10\n",
            "Epoch 490/500\n",
            "1/1 [==============================] - 0s 3ms/step - loss: 5.3663e-10\n",
            "Epoch 491/500\n",
            "1/1 [==============================] - 0s 1ms/step - loss: 5.3663e-10\n",
            "Epoch 492/500\n",
            "1/1 [==============================] - 0s 2ms/step - loss: 5.3663e-10\n",
            "Epoch 493/500\n",
            "1/1 [==============================] - 0s 1ms/step - loss: 5.3663e-10\n",
            "Epoch 494/500\n",
            "1/1 [==============================] - 0s 4ms/step - loss: 5.3663e-10\n",
            "Epoch 495/500\n",
            "1/1 [==============================] - 0s 1ms/step - loss: 5.1808e-10\n",
            "Epoch 496/500\n",
            "1/1 [==============================] - 0s 1ms/step - loss: 5.1808e-10\n",
            "Epoch 497/500\n",
            "1/1 [==============================] - 0s 2ms/step - loss: 5.1808e-10\n",
            "Epoch 498/500\n",
            "1/1 [==============================] - 0s 1ms/step - loss: 5.1808e-10\n",
            "Epoch 499/500\n",
            "1/1 [==============================] - 0s 2ms/step - loss: 5.1808e-10\n",
            "Epoch 500/500\n",
            "1/1 [==============================] - 0s 1ms/step - loss: 5.1808e-10\n"
          ],
          "name": "stdout"
        }
      ]
    },
    {
      "cell_type": "markdown",
      "metadata": {
        "id": "bzHk-iZJcI4y",
        "colab_type": "text"
      },
      "source": [
        "#Evaluate Model"
      ]
    },
    {
      "cell_type": "markdown",
      "metadata": {
        "id": "zRPrl8DQcbpH",
        "colab_type": "text"
      },
      "source": [
        "model_1"
      ]
    },
    {
      "cell_type": "code",
      "metadata": {
        "id": "xIk4yodNcPov",
        "colab_type": "code",
        "colab": {
          "base_uri": "https://localhost:8080/",
          "height": 33
        },
        "outputId": "31a5895c-140d-4c94-c519-37e0a31a0a32"
      },
      "source": [
        "epochs_history.history.keys()"
      ],
      "execution_count": 19,
      "outputs": [
        {
          "output_type": "execute_result",
          "data": {
            "text/plain": [
              "dict_keys(['loss'])"
            ]
          },
          "metadata": {
            "tags": []
          },
          "execution_count": 19
        }
      ]
    },
    {
      "cell_type": "code",
      "metadata": {
        "id": "FYLGArP7cU8G",
        "colab_type": "code",
        "colab": {
          "base_uri": "https://localhost:8080/",
          "height": 637
        },
        "outputId": "92a9c67f-6239-4630-cff2-5d70caed4d04"
      },
      "source": [
        "plt.figure(figsize=(10, 10))\n",
        "plt.plot(epochs_history.history['loss'])\n",
        "plt.title(\"Model Loss progress During training Epochs is 100 and Learning Rate 0.5\")\n",
        "plt.xlabel(\"Epochs\")\n",
        "plt.ylabel(\"Traning Loss\")\n",
        "plt.legend([\"Traning loss\"])"
      ],
      "execution_count": 20,
      "outputs": [
        {
          "output_type": "execute_result",
          "data": {
            "text/plain": [
              "<matplotlib.legend.Legend at 0x7fd4ba3a1c18>"
            ]
          },
          "metadata": {
            "tags": []
          },
          "execution_count": 20
        },
        {
          "output_type": "display_data",
          "data": {
            "image/png": "[encoded data removed]",
            "text/plain": [
              "<Figure size 720x720 with 1 Axes>"
            ]
          },
          "metadata": {
            "tags": [],
            "needs_background": "light"
          }
        }
      ]
    },
    {
      "cell_type": "markdown",
      "metadata": {
        "id": "r0B1BugzdEyl",
        "colab_type": "text"
      },
      "source": [
        "model_2"
      ]
    },
    {
      "cell_type": "code",
      "metadata": {
        "id": "4XZNOaaLc43h",
        "colab_type": "code",
        "colab": {
          "base_uri": "https://localhost:8080/",
          "height": 637
        },
        "outputId": "7920c943-558d-4541-bb0e-20b77ab3cb5c"
      },
      "source": [
        "plt.figure(figsize=(10, 10))\n",
        "plt.plot(epochs_history_2.history['loss'])\n",
        "plt.title(\"Model Loss progress During training Epochs is 100 and Learning Rate 0.5\")\n",
        "plt.xlabel(\"Epochs\")\n",
        "plt.ylabel(\"Traning Loss\")\n",
        "plt.legend([\"Traning loss\"])"
      ],
      "execution_count": 21,
      "outputs": [
        {
          "output_type": "execute_result",
          "data": {
            "text/plain": [
              "<matplotlib.legend.Legend at 0x7fd4ba38be48>"
            ]
          },
          "metadata": {
            "tags": []
          },
          "execution_count": 21
        },
        {
          "output_type": "display_data",
          "data": {
            "image/png": "[encoded data removed]",
            "text/plain": [
              "<Figure size 720x720 with 1 Axes>"
            ]
          },
          "metadata": {
            "tags": [],
            "needs_background": "light"
          }
        }
      ]
    },
    {
      "cell_type": "code",
      "metadata": {
        "id": "lxrgAi5fjBP6",
        "colab_type": "code",
        "colab": {
          "base_uri": "https://localhost:8080/",
          "height": 33
        },
        "outputId": "bccbd1ad-15fd-4f67-caf0-82bed158a672"
      },
      "source": [
        "model.get_weights() # 9/5 = 1.8, "
      ],
      "execution_count": 22,
      "outputs": [
        {
          "output_type": "execute_result",
          "data": {
            "text/plain": [
              "[array([[2.195387]], dtype=float32), array([2.4885182], dtype=float32)]"
            ]
          },
          "metadata": {
            "tags": []
          },
          "execution_count": 22
        }
      ]
    },
    {
      "cell_type": "code",
      "metadata": {
        "id": "4rpkd1UijJ1G",
        "colab_type": "code",
        "colab": {
          "base_uri": "https://localhost:8080/",
          "height": 33
        },
        "outputId": "2ffa6735-4135-438a-91cc-2617dca37a82"
      },
      "source": [
        "model_2.get_weights()"
      ],
      "execution_count": 23,
      "outputs": [
        {
          "output_type": "execute_result",
          "data": {
            "text/plain": [
              "[array([[1.7999998]], dtype=float32), array([32.000023], dtype=float32)]"
            ]
          },
          "metadata": {
            "tags": []
          },
          "execution_count": 23
        }
      ]
    },
    {
      "cell_type": "markdown",
      "metadata": {
        "id": "eFzYKmAkjrpG",
        "colab_type": "text"
      },
      "source": [
        "#Using Model"
      ]
    },
    {
      "cell_type": "code",
      "metadata": {
        "id": "MciKfsPpjwKn",
        "colab_type": "code",
        "colab": {
          "base_uri": "https://localhost:8080/",
          "height": 33
        },
        "outputId": "b4376010-404e-459f-f155-26b5cc757b07"
      },
      "source": [
        "temp_c = 0\n",
        "temp_f = model.predict([temp_c])\n",
        "print('temperature in degF using trainned ANN', temp_f)"
      ],
      "execution_count": 24,
      "outputs": [
        {
          "output_type": "stream",
          "text": [
            "temperature in degF using trainned ANN [[2.4885182]]\n"
          ],
          "name": "stdout"
        }
      ]
    },
    {
      "cell_type": "code",
      "metadata": {
        "id": "qItWtTXeltoI",
        "colab_type": "code",
        "colab": {
          "base_uri": "https://localhost:8080/",
          "height": 33
        },
        "outputId": "d4af4a69-04be-4831-c785-e73909649d25"
      },
      "source": [
        "temp_f = 9/5*temp_c +32\n",
        "print('temperature in degF using trainned ANN', temp_f)"
      ],
      "execution_count": 25,
      "outputs": [
        {
          "output_type": "stream",
          "text": [
            "temperature in degF using trainned ANN 32.0\n"
          ],
          "name": "stdout"
        }
      ]
    },
    {
      "cell_type": "code",
      "metadata": {
        "id": "vTmkvjsGmBAW",
        "colab_type": "code",
        "colab": {
          "base_uri": "https://localhost:8080/",
          "height": 33
        },
        "outputId": "c51ff89f-d1bf-4f45-fef8-5ca19847ca05"
      },
      "source": [
        "temp_c = -32\n",
        "temp_f = 9/5*temp_c +32\n",
        "print('temperature in degF using trainned ANN', temp_f)"
      ],
      "execution_count": 26,
      "outputs": [
        {
          "output_type": "stream",
          "text": [
            "temperature in degF using trainned ANN -25.6\n"
          ],
          "name": "stdout"
        }
      ]
    },
    {
      "cell_type": "code",
      "metadata": {
        "id": "Pm4xVjN3nS-y",
        "colab_type": "code",
        "colab": {
          "base_uri": "https://localhost:8080/",
          "height": 33
        },
        "outputId": "0e71c3b8-6c0b-45bf-fffe-5aa6b23e223b"
      },
      "source": [
        "temp_c = -32\n",
        "temp_f = model.predict([temp_c])\n",
        "print('temperature in degF using trainned ANN', temp_f)"
      ],
      "execution_count": 27,
      "outputs": [
        {
          "output_type": "stream",
          "text": [
            "temperature in degF using trainned ANN [[-67.76386]]\n"
          ],
          "name": "stdout"
        }
      ]
    }
  ]
}